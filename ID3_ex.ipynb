{
 "cells": [
  {
   "cell_type": "code",
   "execution_count": 33,
   "metadata": {
    "ExecuteTime": {
     "end_time": "2019-01-16T02:14:12.702000Z",
     "start_time": "2019-01-16T02:14:12.690000Z"
    }
   },
   "outputs": [],
   "source": [
    "import numpy as np\n",
    "import pandas as pd"
   ]
  },
  {
   "cell_type": "code",
   "execution_count": 34,
   "metadata": {
    "ExecuteTime": {
     "end_time": "2019-01-16T02:14:13.103000Z",
     "start_time": "2019-01-16T02:14:13.088000Z"
    }
   },
   "outputs": [],
   "source": [
    "dataset = pd.read_csv(r'D:/book/decision_tree/homework/week1/ID3_homework.txt', sep = '\\s+', header=None)"
   ]
  },
  {
   "cell_type": "code",
   "execution_count": 35,
   "metadata": {
    "ExecuteTime": {
     "end_time": "2019-01-16T02:14:13.448000Z",
     "start_time": "2019-01-16T02:14:13.444000Z"
    }
   },
   "outputs": [],
   "source": [
    "dataset = dataset.iloc[:, 1:]"
   ]
  },
  {
   "cell_type": "code",
   "execution_count": 36,
   "metadata": {
    "ExecuteTime": {
     "end_time": "2019-01-16T02:14:13.852000Z",
     "start_time": "2019-01-16T02:14:13.838000Z"
    }
   },
   "outputs": [
    {
     "data": {
      "text/html": [
       "<div>\n",
       "<style scoped>\n",
       "    .dataframe tbody tr th:only-of-type {\n",
       "        vertical-align: middle;\n",
       "    }\n",
       "\n",
       "    .dataframe tbody tr th {\n",
       "        vertical-align: top;\n",
       "    }\n",
       "\n",
       "    .dataframe thead th {\n",
       "        text-align: right;\n",
       "    }\n",
       "</style>\n",
       "<table border=\"1\" class=\"dataframe\">\n",
       "  <thead>\n",
       "    <tr style=\"text-align: right;\">\n",
       "      <th></th>\n",
       "      <th>outlook</th>\n",
       "      <th>temperature</th>\n",
       "      <th>humidity</th>\n",
       "      <th>wind</th>\n",
       "      <th>label</th>\n",
       "    </tr>\n",
       "  </thead>\n",
       "  <tbody>\n",
       "    <tr>\n",
       "      <th>0</th>\n",
       "      <td>Sunny</td>\n",
       "      <td>Hot</td>\n",
       "      <td>High</td>\n",
       "      <td>Weak</td>\n",
       "      <td>No</td>\n",
       "    </tr>\n",
       "    <tr>\n",
       "      <th>1</th>\n",
       "      <td>Sunny</td>\n",
       "      <td>Hot</td>\n",
       "      <td>High</td>\n",
       "      <td>Strong</td>\n",
       "      <td>No</td>\n",
       "    </tr>\n",
       "    <tr>\n",
       "      <th>2</th>\n",
       "      <td>Overcast</td>\n",
       "      <td>Hot</td>\n",
       "      <td>High</td>\n",
       "      <td>Weak</td>\n",
       "      <td>Yes</td>\n",
       "    </tr>\n",
       "    <tr>\n",
       "      <th>3</th>\n",
       "      <td>Rain</td>\n",
       "      <td>Mild</td>\n",
       "      <td>High</td>\n",
       "      <td>Weak</td>\n",
       "      <td>Yes</td>\n",
       "    </tr>\n",
       "    <tr>\n",
       "      <th>4</th>\n",
       "      <td>Rain</td>\n",
       "      <td>Cool</td>\n",
       "      <td>Normal</td>\n",
       "      <td>Weak</td>\n",
       "      <td>Yes</td>\n",
       "    </tr>\n",
       "    <tr>\n",
       "      <th>5</th>\n",
       "      <td>Rain</td>\n",
       "      <td>Cool</td>\n",
       "      <td>Normal</td>\n",
       "      <td>Strong</td>\n",
       "      <td>No</td>\n",
       "    </tr>\n",
       "    <tr>\n",
       "      <th>6</th>\n",
       "      <td>Overcast</td>\n",
       "      <td>Cool</td>\n",
       "      <td>Normal</td>\n",
       "      <td>Strong</td>\n",
       "      <td>Yes</td>\n",
       "    </tr>\n",
       "    <tr>\n",
       "      <th>7</th>\n",
       "      <td>Sunny</td>\n",
       "      <td>Mild</td>\n",
       "      <td>High</td>\n",
       "      <td>Weak</td>\n",
       "      <td>No</td>\n",
       "    </tr>\n",
       "    <tr>\n",
       "      <th>8</th>\n",
       "      <td>Sunny</td>\n",
       "      <td>Cool</td>\n",
       "      <td>Normal</td>\n",
       "      <td>Weak</td>\n",
       "      <td>Yes</td>\n",
       "    </tr>\n",
       "    <tr>\n",
       "      <th>9</th>\n",
       "      <td>Rain</td>\n",
       "      <td>Mild</td>\n",
       "      <td>Normal</td>\n",
       "      <td>Weak</td>\n",
       "      <td>Yes</td>\n",
       "    </tr>\n",
       "    <tr>\n",
       "      <th>10</th>\n",
       "      <td>Sunny</td>\n",
       "      <td>Mild</td>\n",
       "      <td>Normal</td>\n",
       "      <td>Strong</td>\n",
       "      <td>Yes</td>\n",
       "    </tr>\n",
       "    <tr>\n",
       "      <th>11</th>\n",
       "      <td>Overcast</td>\n",
       "      <td>Mild</td>\n",
       "      <td>High</td>\n",
       "      <td>Strong</td>\n",
       "      <td>Yes</td>\n",
       "    </tr>\n",
       "    <tr>\n",
       "      <th>12</th>\n",
       "      <td>Overcast</td>\n",
       "      <td>Hot</td>\n",
       "      <td>Normal</td>\n",
       "      <td>Weak</td>\n",
       "      <td>Yes</td>\n",
       "    </tr>\n",
       "    <tr>\n",
       "      <th>13</th>\n",
       "      <td>Rain</td>\n",
       "      <td>Mild</td>\n",
       "      <td>High</td>\n",
       "      <td>Strong</td>\n",
       "      <td>No</td>\n",
       "    </tr>\n",
       "  </tbody>\n",
       "</table>\n",
       "</div>"
      ],
      "text/plain": [
       "     outlook temperature humidity    wind label\n",
       "0      Sunny         Hot     High    Weak    No\n",
       "1      Sunny         Hot     High  Strong    No\n",
       "2   Overcast         Hot     High    Weak   Yes\n",
       "3       Rain        Mild     High    Weak   Yes\n",
       "4       Rain        Cool   Normal    Weak   Yes\n",
       "5       Rain        Cool   Normal  Strong    No\n",
       "6   Overcast        Cool   Normal  Strong   Yes\n",
       "7      Sunny        Mild     High    Weak    No\n",
       "8      Sunny        Cool   Normal    Weak   Yes\n",
       "9       Rain        Mild   Normal    Weak   Yes\n",
       "10     Sunny        Mild   Normal  Strong   Yes\n",
       "11  Overcast        Mild     High  Strong   Yes\n",
       "12  Overcast         Hot   Normal    Weak   Yes\n",
       "13      Rain        Mild     High  Strong    No"
      ]
     },
     "execution_count": 36,
     "metadata": {},
     "output_type": "execute_result"
    }
   ],
   "source": [
    "dataset.columns = ['outlook', 'temperature', 'humidity', 'wind', 'label']\n",
    "dataset"
   ]
  },
  {
   "cell_type": "code",
   "execution_count": 37,
   "metadata": {
    "ExecuteTime": {
     "end_time": "2019-01-16T02:14:15.933000Z",
     "start_time": "2019-01-16T02:14:15.921000Z"
    }
   },
   "outputs": [
    {
     "data": {
      "text/plain": [
       "Yes    9\n",
       "No     5\n",
       "Name: label, dtype: int64"
      ]
     },
     "execution_count": 37,
     "metadata": {},
     "output_type": "execute_result"
    }
   ],
   "source": [
    "dataset['label'].value_counts()"
   ]
  },
  {
   "cell_type": "code",
   "execution_count": 38,
   "metadata": {
    "ExecuteTime": {
     "end_time": "2019-01-16T02:14:38.529000Z",
     "start_time": "2019-01-16T02:14:38.506000Z"
    }
   },
   "outputs": [
    {
     "data": {
      "text/plain": [
       "0.9402859586706311"
      ]
     },
     "execution_count": 38,
     "metadata": {},
     "output_type": "execute_result"
    }
   ],
   "source": [
    "entropy_dataset = - (5 / 14) * np.log2(5 / 14) - 9 / 14 * np.log2(9 / 14)\n",
    "entropy_dataset"
   ]
  },
  {
   "cell_type": "markdown",
   "metadata": {},
   "source": [
    "# 第一次分叉"
   ]
  },
  {
   "cell_type": "markdown",
   "metadata": {},
   "source": [
    "## 计算每个特征的熵"
   ]
  },
  {
   "cell_type": "code",
   "execution_count": 39,
   "metadata": {
    "ExecuteTime": {
     "end_time": "2019-01-16T02:14:41.176000Z",
     "start_time": "2019-01-16T02:14:41.166000Z"
    }
   },
   "outputs": [],
   "source": [
    "num_dataset = len(dataset)"
   ]
  },
  {
   "cell_type": "code",
   "execution_count": 40,
   "metadata": {
    "ExecuteTime": {
     "end_time": "2019-01-16T02:14:41.587000Z",
     "start_time": "2019-01-16T02:14:41.577000Z"
    }
   },
   "outputs": [
    {
     "data": {
      "text/plain": [
       "Sunny       5\n",
       "Rain        5\n",
       "Overcast    4\n",
       "Name: outlook, dtype: int64"
      ]
     },
     "execution_count": 40,
     "metadata": {},
     "output_type": "execute_result"
    }
   ],
   "source": [
    "#计算outlook的熵，并求出信息增益\n",
    "dataset['outlook'].value_counts()"
   ]
  },
  {
   "cell_type": "code",
   "execution_count": 41,
   "metadata": {
    "ExecuteTime": {
     "end_time": "2019-01-16T02:14:43.534000Z",
     "start_time": "2019-01-16T02:14:43.510000Z"
    }
   },
   "outputs": [
    {
     "data": {
      "text/plain": [
       "outlook   label\n",
       "Overcast  Yes      4\n",
       "Rain      Yes      3\n",
       "          No       2\n",
       "Sunny     No       3\n",
       "          Yes      2\n",
       "Name: label, dtype: int64"
      ]
     },
     "execution_count": 41,
     "metadata": {},
     "output_type": "execute_result"
    }
   ],
   "source": [
    "dataset.groupby(['outlook'])['label'].value_counts()"
   ]
  },
  {
   "cell_type": "code",
   "execution_count": 42,
   "metadata": {
    "ExecuteTime": {
     "end_time": "2019-01-16T02:14:44.167000Z",
     "start_time": "2019-01-16T02:14:44.153000Z"
    }
   },
   "outputs": [
    {
     "data": {
      "text/plain": [
       "0.24674981977443933"
      ]
     },
     "execution_count": 42,
     "metadata": {},
     "output_type": "execute_result"
    }
   ],
   "source": [
    "entropy_outlook = (5 / num_dataset) * ( -2 / 5 * np.log2(2 / 5) - 3 / 5 * np.log2(3 / 5)) + \\\n",
    "(5 / num_dataset) * ( -2 / 5 * np.log2(2 / 5) - 3 / 5 * np.log2(3 / 5)) #Rain\n",
    "entropy_dataset - entropy_outlook"
   ]
  },
  {
   "cell_type": "code",
   "execution_count": 43,
   "metadata": {
    "ExecuteTime": {
     "end_time": "2019-01-16T02:14:45.173000Z",
     "start_time": "2019-01-16T02:14:45.153000Z"
    }
   },
   "outputs": [
    {
     "name": "stdout",
     "output_type": "stream",
     "text": [
      "Mild    6\n",
      "Hot     4\n",
      "Cool    4\n",
      "Name: temperature, dtype: int64\n",
      "temperature  label\n",
      "Cool         Yes      3\n",
      "             No       1\n",
      "Hot          No       2\n",
      "             Yes      2\n",
      "Mild         Yes      4\n",
      "             No       2\n",
      "Name: label, dtype: int64\n"
     ]
    }
   ],
   "source": [
    "#计算temperature的熵，并求出信息增益\n",
    "print(dataset['temperature'].value_counts())\n",
    "print(dataset.groupby(['temperature'])['label'].value_counts())"
   ]
  },
  {
   "cell_type": "code",
   "execution_count": 44,
   "metadata": {
    "ExecuteTime": {
     "end_time": "2019-01-16T02:14:45.616000Z",
     "start_time": "2019-01-16T02:14:45.602000Z"
    }
   },
   "outputs": [
    {
     "data": {
      "text/plain": [
       "0.02922256565895487"
      ]
     },
     "execution_count": 44,
     "metadata": {},
     "output_type": "execute_result"
    }
   ],
   "source": [
    "entropy_temperature = (6 / num_dataset) * ( -2 / 6 * np.log2(2 / 6) - 4 / 6 * np.log2(4 / 6)) + \\\n",
    "(4 / num_dataset) * ( -2 / 4 * np.log2(2 / 4) - 2 / 4 * np.log2(2 / 4)) + \\\n",
    "(4 / num_dataset) * ( -1 / 4 * np.log2(1 / 4) - 3 / 4 * np.log2(3 / 4))\n",
    "entropy_dataset - entropy_temperature"
   ]
  },
  {
   "cell_type": "code",
   "execution_count": 45,
   "metadata": {
    "ExecuteTime": {
     "end_time": "2019-01-16T02:14:45.976000Z",
     "start_time": "2019-01-16T02:14:45.962000Z"
    }
   },
   "outputs": [
    {
     "name": "stdout",
     "output_type": "stream",
     "text": [
      "High      7\n",
      "Normal    7\n",
      "Name: humidity, dtype: int64\n",
      "humidity  label\n",
      "High      No       4\n",
      "          Yes      3\n",
      "Normal    Yes      6\n",
      "          No       1\n",
      "Name: label, dtype: int64\n"
     ]
    }
   ],
   "source": [
    "#计算humidity的熵，并求出信息增益\n",
    "print(dataset['humidity'].value_counts())\n",
    "print(dataset.groupby(['humidity'])['label'].value_counts())"
   ]
  },
  {
   "cell_type": "code",
   "execution_count": 46,
   "metadata": {
    "ExecuteTime": {
     "end_time": "2019-01-16T02:14:46.273000Z",
     "start_time": "2019-01-16T02:14:46.263000Z"
    }
   },
   "outputs": [
    {
     "data": {
      "text/plain": [
       "0.15183550136234159"
      ]
     },
     "execution_count": 46,
     "metadata": {},
     "output_type": "execute_result"
    }
   ],
   "source": [
    "entropy_humidity = (7 / num_dataset) * ( -4 / 7 * np.log2(4 / 7) - 3 / 7 * np.log2(3 / 7)) + \\\n",
    "(7 / num_dataset) * ( -6 / 7 * np.log2(6 / 7) - 1 / 7 * np.log2(1 / 7))\n",
    "entropy_dataset - entropy_humidity"
   ]
  },
  {
   "cell_type": "code",
   "execution_count": 47,
   "metadata": {
    "ExecuteTime": {
     "end_time": "2019-01-16T02:14:46.625000Z",
     "start_time": "2019-01-16T02:14:46.614000Z"
    }
   },
   "outputs": [
    {
     "name": "stdout",
     "output_type": "stream",
     "text": [
      "Weak      8\n",
      "Strong    6\n",
      "Name: wind, dtype: int64\n",
      "wind    label\n",
      "Strong  No       3\n",
      "        Yes      3\n",
      "Weak    Yes      6\n",
      "        No       2\n",
      "Name: label, dtype: int64\n"
     ]
    }
   ],
   "source": [
    "#计算wind的熵，并求出信息增益\n",
    "print(dataset['wind'].value_counts())\n",
    "print(dataset.groupby(['wind'])['label'].value_counts())"
   ]
  },
  {
   "cell_type": "code",
   "execution_count": 48,
   "metadata": {
    "ExecuteTime": {
     "end_time": "2019-01-16T02:14:46.917000Z",
     "start_time": "2019-01-16T02:14:46.910000Z"
    }
   },
   "outputs": [
    {
     "data": {
      "text/plain": [
       "0.04812703040826949"
      ]
     },
     "execution_count": 48,
     "metadata": {},
     "output_type": "execute_result"
    }
   ],
   "source": [
    "entropy_wind = (8 / num_dataset) * ( -2 / 8 * np.log2(2 / 8) - 6 / 8 * np.log2(6 / 8)) + \\\n",
    "(6 / num_dataset) * ( -3 / 6 * np.log2(3 / 6) - 3 / 6 * np.log2(3 / 6))\n",
    "entropy_dataset - entropy_wind"
   ]
  },
  {
   "cell_type": "code",
   "execution_count": 54,
   "metadata": {
    "ExecuteTime": {
     "end_time": "2019-01-16T02:16:34.062000Z",
     "start_time": "2019-01-16T02:16:34.043000Z"
    }
   },
   "outputs": [
    {
     "name": "stdout",
     "output_type": "stream",
     "text": [
      "Sunny is\n",
      "    outlook temperature humidity    wind label\n",
      "0    Sunny         Hot     High    Weak    No\n",
      "1    Sunny         Hot     High  Strong    No\n",
      "7    Sunny        Mild     High    Weak    No\n",
      "8    Sunny        Cool   Normal    Weak   Yes\n",
      "10   Sunny        Mild   Normal  Strong   Yes\n",
      "Overcast is\n",
      "      outlook temperature humidity    wind label\n",
      "2   Overcast         Hot     High    Weak   Yes\n",
      "6   Overcast        Cool   Normal  Strong   Yes\n",
      "11  Overcast        Mild     High  Strong   Yes\n",
      "12  Overcast         Hot   Normal    Weak   Yes\n",
      "Rain is\n",
      "    outlook temperature humidity    wind label\n",
      "3     Rain        Mild     High    Weak   Yes\n",
      "4     Rain        Cool   Normal    Weak   Yes\n",
      "5     Rain        Cool   Normal  Strong    No\n",
      "9     Rain        Mild   Normal    Weak   Yes\n",
      "13    Rain        Mild     High  Strong    No\n"
     ]
    }
   ],
   "source": [
    "#根据比较，outlook的信息增益是最大的\n",
    "print('Sunny is\\n', dataset.loc[dataset['outlook'] == 'Sunny'])\n",
    "print('Overcast is\\n', dataset.loc[dataset['outlook'] == 'Overcast'])\n",
    "print('Rain is\\n', dataset.loc[dataset['outlook'] == 'Rain'])\n",
    "\n",
    "#根据Overcast的结果，所有的样本都划分成了一类，达到递归结束条件返回"
   ]
  },
  {
   "cell_type": "markdown",
   "metadata": {},
   "source": [
    "# 第二次分叉，是第一次分叉的子分支"
   ]
  },
  {
   "cell_type": "code",
   "execution_count": 69,
   "metadata": {
    "ExecuteTime": {
     "end_time": "2019-01-16T02:31:33.765000Z",
     "start_time": "2019-01-16T02:31:33.746000Z"
    }
   },
   "outputs": [
    {
     "data": {
      "text/plain": [
       "0.9709505944546686"
      ]
     },
     "execution_count": 69,
     "metadata": {},
     "output_type": "execute_result"
    }
   ],
   "source": [
    "#先对Sunny数据进行进一步划分\n",
    "sunny_dataset = dataset.loc[dataset['outlook'] == 'Sunny']\n",
    "entropy_sunny = -(2 / 5) * np.log2(2 / 5) - (3 / 5) * np.log2(3 / 5)\n",
    "entropy_sunny"
   ]
  },
  {
   "cell_type": "code",
   "execution_count": 77,
   "metadata": {
    "ExecuteTime": {
     "end_time": "2019-01-16T02:39:42.991000Z",
     "start_time": "2019-01-16T02:39:42.973000Z"
    }
   },
   "outputs": [
    {
     "name": "stdout",
     "output_type": "stream",
     "text": [
      "Hot     2\n",
      "Mild    2\n",
      "Cool    1\n",
      "Name: temperature, dtype: int64\n",
      "temperature  label\n",
      "Cool         Yes      1\n",
      "Hot          No       2\n",
      "Mild         No       1\n",
      "             Yes      1\n",
      "Name: label, dtype: int64\n"
     ]
    }
   ],
   "source": [
    "#计算temperature的熵(Sunny)，并求出信息增益\n",
    "print(sunny_dataset['temperature'].value_counts())\n",
    "print(sunny_dataset.groupby(['temperature'])['label'].value_counts())"
   ]
  },
  {
   "cell_type": "code",
   "execution_count": 78,
   "metadata": {
    "ExecuteTime": {
     "end_time": "2019-01-16T02:39:43.474000Z",
     "start_time": "2019-01-16T02:39:43.469000Z"
    }
   },
   "outputs": [
    {
     "data": {
      "text/plain": [
       "0.5709505944546686"
      ]
     },
     "execution_count": 78,
     "metadata": {},
     "output_type": "execute_result"
    }
   ],
   "source": [
    "sunny_entropy_temperature = (2 / 5) * (-1 / 2 * np.log2(1 / 2) - 1 / 2 * np.log2(1 / 2))\n",
    "entropy_sunny - sunny_entropy_temperature"
   ]
  },
  {
   "cell_type": "markdown",
   "metadata": {},
   "source": [
    "## 第三次分叉，是Sunny分叉的子分支"
   ]
  },
  {
   "cell_type": "code",
   "execution_count": 79,
   "metadata": {
    "ExecuteTime": {
     "end_time": "2019-01-16T02:39:45.578000Z",
     "start_time": "2019-01-16T02:39:45.568000Z"
    }
   },
   "outputs": [
    {
     "name": "stdout",
     "output_type": "stream",
     "text": [
      "High      3\n",
      "Normal    2\n",
      "Name: humidity, dtype: int64\n",
      "humidity  label\n",
      "High      No       3\n",
      "Normal    Yes      2\n",
      "Name: label, dtype: int64\n"
     ]
    }
   ],
   "source": [
    "#计算humidity的熵(Sunny)，并求出信息增益\n",
    "print(sunny_dataset['humidity'].value_counts())\n",
    "print(sunny_dataset.groupby(['humidity'])['label'].value_counts())"
   ]
  },
  {
   "cell_type": "code",
   "execution_count": 80,
   "metadata": {
    "ExecuteTime": {
     "end_time": "2019-01-16T02:39:52.284000Z",
     "start_time": "2019-01-16T02:39:52.265000Z"
    }
   },
   "outputs": [
    {
     "name": "stdout",
     "output_type": "stream",
     "text": [
      "Weak      3\n",
      "Strong    2\n",
      "Name: wind, dtype: int64\n",
      "wind    label\n",
      "Strong  No       1\n",
      "        Yes      1\n",
      "Weak    No       2\n",
      "        Yes      1\n",
      "Name: label, dtype: int64\n"
     ]
    },
    {
     "data": {
      "text/plain": [
       "0.01997309402197489"
      ]
     },
     "execution_count": 80,
     "metadata": {},
     "output_type": "execute_result"
    }
   ],
   "source": [
    "#由上图可见，直接都划分出来了，所以可直接选择该特征了，为了严谨性，我们继续看下其他特征\n",
    "print(sunny_dataset['wind'].value_counts())\n",
    "print(sunny_dataset.groupby(['wind'])['label'].value_counts())\n",
    "\n",
    "sunny_entropy_wind = (2 / 5) * (-1 / 2 * np.log2(1 / 2) - 1 / 2 * np.log2(1 / 2)) + \\\n",
    "(3 / 5) * (-1 / 3 * np.log2(1 / 3) - 2 / 3 * np.log2(2 / 3))\n",
    "entropy_sunny - sunny_entropy_wind"
   ]
  },
  {
   "cell_type": "markdown",
   "metadata": {},
   "source": [
    "## 第四次分叉，是Overcast分叉的子分支\n",
    "- 由于Overcast已经划分出来了，所以不需要进一步的划分"
   ]
  },
  {
   "cell_type": "code",
   "execution_count": 85,
   "metadata": {
    "ExecuteTime": {
     "end_time": "2019-01-16T02:52:53.812000Z",
     "start_time": "2019-01-16T02:52:53.791000Z"
    }
   },
   "outputs": [
    {
     "data": {
      "text/html": [
       "<div>\n",
       "<style scoped>\n",
       "    .dataframe tbody tr th:only-of-type {\n",
       "        vertical-align: middle;\n",
       "    }\n",
       "\n",
       "    .dataframe tbody tr th {\n",
       "        vertical-align: top;\n",
       "    }\n",
       "\n",
       "    .dataframe thead th {\n",
       "        text-align: right;\n",
       "    }\n",
       "</style>\n",
       "<table border=\"1\" class=\"dataframe\">\n",
       "  <thead>\n",
       "    <tr style=\"text-align: right;\">\n",
       "      <th></th>\n",
       "      <th>outlook</th>\n",
       "      <th>temperature</th>\n",
       "      <th>humidity</th>\n",
       "      <th>wind</th>\n",
       "      <th>label</th>\n",
       "    </tr>\n",
       "  </thead>\n",
       "  <tbody>\n",
       "    <tr>\n",
       "      <th>2</th>\n",
       "      <td>Overcast</td>\n",
       "      <td>Hot</td>\n",
       "      <td>High</td>\n",
       "      <td>Weak</td>\n",
       "      <td>Yes</td>\n",
       "    </tr>\n",
       "    <tr>\n",
       "      <th>6</th>\n",
       "      <td>Overcast</td>\n",
       "      <td>Cool</td>\n",
       "      <td>Normal</td>\n",
       "      <td>Strong</td>\n",
       "      <td>Yes</td>\n",
       "    </tr>\n",
       "    <tr>\n",
       "      <th>11</th>\n",
       "      <td>Overcast</td>\n",
       "      <td>Mild</td>\n",
       "      <td>High</td>\n",
       "      <td>Strong</td>\n",
       "      <td>Yes</td>\n",
       "    </tr>\n",
       "    <tr>\n",
       "      <th>12</th>\n",
       "      <td>Overcast</td>\n",
       "      <td>Hot</td>\n",
       "      <td>Normal</td>\n",
       "      <td>Weak</td>\n",
       "      <td>Yes</td>\n",
       "    </tr>\n",
       "  </tbody>\n",
       "</table>\n",
       "</div>"
      ],
      "text/plain": [
       "     outlook temperature humidity    wind label\n",
       "2   Overcast         Hot     High    Weak   Yes\n",
       "6   Overcast        Cool   Normal  Strong   Yes\n",
       "11  Overcast        Mild     High  Strong   Yes\n",
       "12  Overcast         Hot   Normal    Weak   Yes"
      ]
     },
     "execution_count": 85,
     "metadata": {},
     "output_type": "execute_result"
    }
   ],
   "source": [
    "dataset.loc[dataset['outlook'] == 'Overcast']"
   ]
  },
  {
   "cell_type": "markdown",
   "metadata": {},
   "source": [
    "## 第五次分叉，是Rain分叉的子分支"
   ]
  },
  {
   "cell_type": "code",
   "execution_count": 81,
   "metadata": {
    "ExecuteTime": {
     "end_time": "2019-01-16T02:40:00.972000Z",
     "start_time": "2019-01-16T02:40:00.948000Z"
    }
   },
   "outputs": [
    {
     "data": {
      "text/plain": [
       "0.9709505944546686"
      ]
     },
     "execution_count": 81,
     "metadata": {},
     "output_type": "execute_result"
    }
   ],
   "source": [
    "#最后对Rain数据进行进一步划分\n",
    "rain_dataset = dataset.loc[dataset['outlook'] == 'Rain']\n",
    "entropy_rain = -(2 / 5) * np.log2(2 / 5) - (3 / 5) * np.log2(3 / 5)\n",
    "entropy_rain"
   ]
  },
  {
   "cell_type": "code",
   "execution_count": 82,
   "metadata": {
    "ExecuteTime": {
     "end_time": "2019-01-16T02:40:01.416000Z",
     "start_time": "2019-01-16T02:40:01.403000Z"
    }
   },
   "outputs": [
    {
     "name": "stdout",
     "output_type": "stream",
     "text": [
      "Mild    3\n",
      "Cool    2\n",
      "Name: temperature, dtype: int64\n",
      "temperature  label\n",
      "Cool         No       1\n",
      "             Yes      1\n",
      "Mild         Yes      2\n",
      "             No       1\n",
      "Name: label, dtype: int64\n"
     ]
    }
   ],
   "source": [
    "#计算tempearture的熵(Sunny)\n",
    "print(rain_dataset['temperature'].value_counts())\n",
    "print(rain_dataset.groupby(['temperature'])['label'].value_counts())"
   ]
  },
  {
   "cell_type": "code",
   "execution_count": 83,
   "metadata": {
    "ExecuteTime": {
     "end_time": "2019-01-16T02:40:01.877000Z",
     "start_time": "2019-01-16T02:40:01.865000Z"
    }
   },
   "outputs": [
    {
     "name": "stdout",
     "output_type": "stream",
     "text": [
      "Normal    3\n",
      "High      2\n",
      "Name: humidity, dtype: int64\n",
      "humidity  label\n",
      "High      No       1\n",
      "          Yes      1\n",
      "Normal    Yes      2\n",
      "          No       1\n",
      "Name: label, dtype: int64\n"
     ]
    }
   ],
   "source": [
    "#计算humidity的熵(Sunny)\n",
    "print(rain_dataset['humidity'].value_counts())\n",
    "print(rain_dataset.groupby(['humidity'])['label'].value_counts())\n"
   ]
  },
  {
   "cell_type": "code",
   "execution_count": 84,
   "metadata": {
    "ExecuteTime": {
     "end_time": "2019-01-16T02:40:02.270000Z",
     "start_time": "2019-01-16T02:40:02.262000Z"
    }
   },
   "outputs": [
    {
     "name": "stdout",
     "output_type": "stream",
     "text": [
      "Weak      3\n",
      "Strong    2\n",
      "Name: wind, dtype: int64\n",
      "wind    label\n",
      "Strong  No       2\n",
      "Weak    Yes      3\n",
      "Name: label, dtype: int64\n"
     ]
    }
   ],
   "source": [
    "#计算wind的熵(Sunny)，并求出信息增益\n",
    "print(rain_dataset['wind'].value_counts())\n",
    "print(rain_dataset.groupby(['wind'])['label'].value_counts())\n",
    "\n",
    "#可知根据wind直接划分出来了"
   ]
  },
  {
   "attachments": {
    "image.png": {
     "image/png": "[encoded data removed]"
    }
   },
   "cell_type": "markdown",
   "metadata": {},
   "source": [
    "# 最终的决策树\n",
    "![image.png](attachment:image.png)"
   ]
  },
  {
   "cell_type": "markdown",
   "metadata": {},
   "source": [
    "# 踩过的坑"
   ]
  },
  {
   "cell_type": "markdown",
   "metadata": {},
   "source": [
    "- pd.read_csv()中，忘记添加了header = None，少了一条数据，结果导致计算熵的差的时候莫名其妙出现了负值。\n",
    "- np.log2后面打成了np.log\n",
    "- 刚开始命名不是很明确，看的时候不是很顺畅"
   ]
  }
 ],
 "metadata": {
  "kernelspec": {
   "display_name": "python3.6",
   "language": "python",
   "name": "python3.6"
  },
  "language_info": {
   "codemirror_mode": {
    "name": "ipython",
    "version": 3
   },
   "file_extension": ".py",
   "mimetype": "text/x-python",
   "name": "python",
   "nbconvert_exporter": "python",
   "pygments_lexer": "ipython3",
   "version": "3.6.3"
  },
  "toc": {
   "base_numbering": 1,
   "nav_menu": {},
   "number_sections": true,
   "sideBar": true,
   "skip_h1_title": false,
   "title_cell": "Table of Contents",
   "title_sidebar": "Contents",
   "toc_cell": false,
   "toc_position": {},
   "toc_section_display": true,
   "toc_window_display": true
  }
 },
 "nbformat": 4,
 "nbformat_minor": 2
}
