{
 "cells": [
  {
   "cell_type": "code",
   "execution_count": 1,
   "metadata": {
    "ExecuteTime": {
     "end_time": "2019-01-17T10:25:49.641000Z",
     "start_time": "2019-01-17T10:25:49.635000Z"
    },
    "collapsed": true
   },
   "outputs": [],
   "source": [
    "import numpy as np\n",
    "import pandas as pd"
   ]
  },
  {
   "cell_type": "code",
   "execution_count": 2,
   "metadata": {
    "ExecuteTime": {
     "end_time": "2019-01-17T10:25:50.063000Z",
     "start_time": "2019-01-17T10:25:50.038000Z"
    },
    "collapsed": true
   },
   "outputs": [],
   "source": [
    "dataset = pd.read_csv(r'D:\\book\\decision_tree\\homework\\week1\\C4.5_homework.txt', header=None, sep = '\\s+')"
   ]
  },
  {
   "cell_type": "code",
   "execution_count": 3,
   "metadata": {
    "ExecuteTime": {
     "end_time": "2019-01-17T10:25:50.444000Z",
     "start_time": "2019-01-17T10:25:50.436000Z"
    },
    "collapsed": true
   },
   "outputs": [],
   "source": [
    "dataset = dataset.iloc[:, 1:]\n",
    "dataset.columns = ['outlook', 'temperature', 'humidity', 'wind', 'label']"
   ]
  },
  {
   "cell_type": "code",
   "execution_count": 4,
   "metadata": {
    "ExecuteTime": {
     "end_time": "2019-01-17T10:25:50.905000Z",
     "start_time": "2019-01-17T10:25:50.766000Z"
    }
   },
   "outputs": [
    {
     "data": {
      "text/html": [
       "<div>\n",
       "<style>\n",
       "    .dataframe thead tr:only-child th {\n",
       "        text-align: right;\n",
       "    }\n",
       "\n",
       "    .dataframe thead th {\n",
       "        text-align: left;\n",
       "    }\n",
       "\n",
       "    .dataframe tbody tr th {\n",
       "        vertical-align: top;\n",
       "    }\n",
       "</style>\n",
       "<table border=\"1\" class=\"dataframe\">\n",
       "  <thead>\n",
       "    <tr style=\"text-align: right;\">\n",
       "      <th></th>\n",
       "      <th>outlook</th>\n",
       "      <th>temperature</th>\n",
       "      <th>humidity</th>\n",
       "      <th>wind</th>\n",
       "      <th>label</th>\n",
       "    </tr>\n",
       "  </thead>\n",
       "  <tbody>\n",
       "    <tr>\n",
       "      <th>0</th>\n",
       "      <td>Sunny</td>\n",
       "      <td>85</td>\n",
       "      <td>85</td>\n",
       "      <td>Weak</td>\n",
       "      <td>No</td>\n",
       "    </tr>\n",
       "    <tr>\n",
       "      <th>1</th>\n",
       "      <td>Sunny</td>\n",
       "      <td>80</td>\n",
       "      <td>90</td>\n",
       "      <td>Strong</td>\n",
       "      <td>No</td>\n",
       "    </tr>\n",
       "    <tr>\n",
       "      <th>2</th>\n",
       "      <td>Overcast</td>\n",
       "      <td>83</td>\n",
       "      <td>78</td>\n",
       "      <td>Weak</td>\n",
       "      <td>Yes</td>\n",
       "    </tr>\n",
       "    <tr>\n",
       "      <th>3</th>\n",
       "      <td>Rain</td>\n",
       "      <td>70</td>\n",
       "      <td>96</td>\n",
       "      <td>Weak</td>\n",
       "      <td>Yes</td>\n",
       "    </tr>\n",
       "    <tr>\n",
       "      <th>4</th>\n",
       "      <td>Rain</td>\n",
       "      <td>68</td>\n",
       "      <td>80</td>\n",
       "      <td>Weak</td>\n",
       "      <td>Yes</td>\n",
       "    </tr>\n",
       "    <tr>\n",
       "      <th>5</th>\n",
       "      <td>Rain</td>\n",
       "      <td>65</td>\n",
       "      <td>70</td>\n",
       "      <td>Strong</td>\n",
       "      <td>No</td>\n",
       "    </tr>\n",
       "    <tr>\n",
       "      <th>6</th>\n",
       "      <td>Overcast</td>\n",
       "      <td>64</td>\n",
       "      <td>65</td>\n",
       "      <td>Strong</td>\n",
       "      <td>Yes</td>\n",
       "    </tr>\n",
       "    <tr>\n",
       "      <th>7</th>\n",
       "      <td>Sunny</td>\n",
       "      <td>72</td>\n",
       "      <td>95</td>\n",
       "      <td>Weak</td>\n",
       "      <td>No</td>\n",
       "    </tr>\n",
       "    <tr>\n",
       "      <th>8</th>\n",
       "      <td>Sunny</td>\n",
       "      <td>69</td>\n",
       "      <td>70</td>\n",
       "      <td>Weak</td>\n",
       "      <td>Yes</td>\n",
       "    </tr>\n",
       "    <tr>\n",
       "      <th>9</th>\n",
       "      <td>Rain</td>\n",
       "      <td>75</td>\n",
       "      <td>80</td>\n",
       "      <td>Weak</td>\n",
       "      <td>Yes</td>\n",
       "    </tr>\n",
       "    <tr>\n",
       "      <th>10</th>\n",
       "      <td>Sunny</td>\n",
       "      <td>75</td>\n",
       "      <td>70</td>\n",
       "      <td>Strong</td>\n",
       "      <td>Yes</td>\n",
       "    </tr>\n",
       "    <tr>\n",
       "      <th>11</th>\n",
       "      <td>Overcast</td>\n",
       "      <td>72</td>\n",
       "      <td>90</td>\n",
       "      <td>Strong</td>\n",
       "      <td>Yes</td>\n",
       "    </tr>\n",
       "    <tr>\n",
       "      <th>12</th>\n",
       "      <td>Overcast</td>\n",
       "      <td>81</td>\n",
       "      <td>75</td>\n",
       "      <td>Weak</td>\n",
       "      <td>Yes</td>\n",
       "    </tr>\n",
       "    <tr>\n",
       "      <th>13</th>\n",
       "      <td>Rain</td>\n",
       "      <td>71</td>\n",
       "      <td>80</td>\n",
       "      <td>Strong</td>\n",
       "      <td>No</td>\n",
       "    </tr>\n",
       "  </tbody>\n",
       "</table>\n",
       "</div>"
      ],
      "text/plain": [
       "     outlook  temperature  humidity    wind label\n",
       "0      Sunny           85        85    Weak    No\n",
       "1      Sunny           80        90  Strong    No\n",
       "2   Overcast           83        78    Weak   Yes\n",
       "3       Rain           70        96    Weak   Yes\n",
       "4       Rain           68        80    Weak   Yes\n",
       "5       Rain           65        70  Strong    No\n",
       "6   Overcast           64        65  Strong   Yes\n",
       "7      Sunny           72        95    Weak    No\n",
       "8      Sunny           69        70    Weak   Yes\n",
       "9       Rain           75        80    Weak   Yes\n",
       "10     Sunny           75        70  Strong   Yes\n",
       "11  Overcast           72        90  Strong   Yes\n",
       "12  Overcast           81        75    Weak   Yes\n",
       "13      Rain           71        80  Strong    No"
      ]
     },
     "execution_count": 4,
     "metadata": {},
     "output_type": "execute_result"
    }
   ],
   "source": [
    "dataset"
   ]
  },
  {
   "cell_type": "code",
   "execution_count": 5,
   "metadata": {
    "ExecuteTime": {
     "end_time": "2019-01-17T10:25:51.238000Z",
     "start_time": "2019-01-17T10:25:51.223000Z"
    }
   },
   "outputs": [
    {
     "data": {
      "text/plain": [
       "Yes    9\n",
       "No     5\n",
       "Name: label, dtype: int64"
      ]
     },
     "execution_count": 5,
     "metadata": {},
     "output_type": "execute_result"
    }
   ],
   "source": [
    "dataset['label'].value_counts()"
   ]
  },
  {
   "cell_type": "code",
   "execution_count": 6,
   "metadata": {
    "ExecuteTime": {
     "end_time": "2019-01-17T10:25:51.851000Z",
     "start_time": "2019-01-17T10:25:51.836000Z"
    }
   },
   "outputs": [
    {
     "data": {
      "text/plain": [
       "0.94028595867063114"
      ]
     },
     "execution_count": 6,
     "metadata": {},
     "output_type": "execute_result"
    }
   ],
   "source": [
    "entropy_dataset = - ((9 / 14) * np.log2(9 / 14) + (5 / 14) * np.log2(5 / 14))\n",
    "entropy_dataset"
   ]
  },
  {
   "cell_type": "code",
   "execution_count": 7,
   "metadata": {
    "ExecuteTime": {
     "end_time": "2019-01-17T10:25:53.297000Z",
     "start_time": "2019-01-17T10:25:53.247000Z"
    }
   },
   "outputs": [
    {
     "name": "stdout",
     "output_type": "stream",
     "text": [
      "Rain        5\n",
      "Sunny       5\n",
      "Overcast    4\n",
      "Name: outlook, dtype: int64\n",
      "75    2\n",
      "72    2\n",
      "71    1\n",
      "81    1\n",
      "64    1\n",
      "69    1\n",
      "70    1\n",
      "85    1\n",
      "68    1\n",
      "83    1\n",
      "65    1\n",
      "80    1\n",
      "Name: temperature, dtype: int64\n",
      "80    3\n",
      "70    3\n",
      "90    2\n",
      "95    1\n",
      "78    1\n",
      "75    1\n",
      "85    1\n",
      "65    1\n",
      "96    1\n",
      "Name: humidity, dtype: int64\n",
      "Weak      8\n",
      "Strong    6\n",
      "Name: wind, dtype: int64\n"
     ]
    }
   ],
   "source": [
    "# 求每个特征的IV值\n",
    "print(dataset['outlook'].value_counts())\n",
    "print(dataset['temperature'].value_counts())\n",
    "print(dataset['humidity'].value_counts())\n",
    "print(dataset['wind'].value_counts())"
   ]
  },
  {
   "cell_type": "code",
   "execution_count": 8,
   "metadata": {
    "ExecuteTime": {
     "end_time": "2019-01-17T11:02:17.443000Z",
     "start_time": "2019-01-17T11:02:17.431000Z"
    }
   },
   "outputs": [
    {
     "name": "stdout",
     "output_type": "stream",
     "text": [
      "IV_outlook: 1.57740628285\n",
      "IV_wind: 0.985228136034\n"
     ]
    }
   ],
   "source": [
    "#先计算离散值的IV\n",
    "IV_outlook = -( (2 * (5 / 14) * np.log2(5 / 14)) + (4 / 14 * np.log2(4 / 14)) )\n",
    "print('IV_outlook:', IV_outlook)\n",
    "\n",
    "IV_wind = -( (8 / 14 * np.log2(8 / 14)) + (6 / 14 * np.log2(6 / 14)) )\n",
    "print('IV_wind:', IV_wind)"
   ]
  },
  {
   "cell_type": "code",
   "execution_count": 9,
   "metadata": {
    "ExecuteTime": {
     "end_time": "2019-01-17T11:12:51.384000Z",
     "start_time": "2019-01-17T11:12:51.375000Z"
    }
   },
   "outputs": [
    {
     "name": "stdout",
     "output_type": "stream",
     "text": [
      "14\n"
     ]
    }
   ],
   "source": [
    "num_datasets = len(dataset)\n",
    "print(num_datasets)"
   ]
  },
  {
   "cell_type": "markdown",
   "metadata": {},
   "source": [
    "#  第一次分叉"
   ]
  },
  {
   "cell_type": "markdown",
   "metadata": {},
   "source": [
    "## 计算每个特征的信息增益率"
   ]
  },
  {
   "cell_type": "markdown",
   "metadata": {},
   "source": [
    "### 计算outlook的信息增益率"
   ]
  },
  {
   "cell_type": "code",
   "execution_count": 10,
   "metadata": {
    "ExecuteTime": {
     "end_time": "2019-01-17T10:39:39.443000Z",
     "start_time": "2019-01-17T10:39:39.433000Z"
    }
   },
   "outputs": [
    {
     "name": "stdout",
     "output_type": "stream",
     "text": [
      "Rain        5\n",
      "Sunny       5\n",
      "Overcast    4\n",
      "Name: outlook, dtype: int64\n",
      "outlook   label\n",
      "Overcast  Yes      4\n",
      "Rain      Yes      3\n",
      "          No       2\n",
      "Sunny     No       3\n",
      "          Yes      2\n",
      "Name: label, dtype: int64\n"
     ]
    }
   ],
   "source": [
    "print(dataset['outlook'].value_counts())\n",
    "print(dataset.groupby(['outlook'])['label'].value_counts())"
   ]
  },
  {
   "cell_type": "code",
   "execution_count": 11,
   "metadata": {
    "ExecuteTime": {
     "end_time": "2019-01-17T11:00:49.238000Z",
     "start_time": "2019-01-17T11:00:49.233000Z"
    }
   },
   "outputs": [
    {
     "name": "stdout",
     "output_type": "stream",
     "text": [
      "0.156427562421\n"
     ]
    }
   ],
   "source": [
    "entropy_outlook = -( (5 / num_datasets) * ( 2 / 5 * np.log2(2 / 5) + 3 / 5 * np.log2(3 / 5)) ) - \\\n",
    "( (5 / num_datasets) * ( (2 / 5) * np.log2(2 / 5) + (3 / 5) * np.log2(3 / 5)) )\n",
    "#print(entropy_dataset - entropy_outlook)\n",
    "entropy_ratio_outlook = (entropy_dataset - entropy_outlook) / IV_outlook\n",
    "print(entropy_ratio_outlook)"
   ]
  },
  {
   "cell_type": "markdown",
   "metadata": {},
   "source": [
    "### 计算wind的信息增益率"
   ]
  },
  {
   "cell_type": "code",
   "execution_count": 12,
   "metadata": {},
   "outputs": [
    {
     "name": "stdout",
     "output_type": "stream",
     "text": [
      "Weak      8\n",
      "Strong    6\n",
      "Name: wind, dtype: int64\n",
      "wind    label\n",
      "Strong  No       3\n",
      "        Yes      3\n",
      "Weak    Yes      6\n",
      "        No       2\n",
      "Name: label, dtype: int64\n"
     ]
    }
   ],
   "source": [
    "print(dataset['wind'].value_counts())\n",
    "print(dataset.groupby(['wind'])['label'].value_counts())"
   ]
  },
  {
   "cell_type": "code",
   "execution_count": 13,
   "metadata": {},
   "outputs": [
    {
     "name": "stdout",
     "output_type": "stream",
     "text": [
      "0.0488486155115\n"
     ]
    }
   ],
   "source": [
    "entropy_wind = -( (6 / num_datasets) * ( 3 / 6 * np.log2(3 / 6) + 3 / 6 * np.log2(3 / 6)) ) - \\\n",
    "( (8 / num_datasets) * ( (2 / 8) * np.log2(2 / 8) + (6 / 8) *  np.log2(6 / 8)) )\n",
    "#print(entropy_dataset - entropy_wind)\n",
    "entropy_ratio_wind = (entropy_dataset - entropy_wind) / IV_wind\n",
    "print(entropy_ratio_wind)"
   ]
  },
  {
   "cell_type": "markdown",
   "metadata": {},
   "source": [
    "### 计算tempearture的信息增益率"
   ]
  },
  {
   "cell_type": "code",
   "execution_count": 100,
   "metadata": {},
   "outputs": [
    {
     "data": {
      "text/plain": [
       "0.24710225847409267"
      ]
     },
     "execution_count": 100,
     "metadata": {},
     "output_type": "execute_result"
    }
   ],
   "source": [
    "continuous_cost = np.log2(dataset['temperature'].nunique() - 1)/ num_datasets\n",
    "continuous_cost"
   ]
  },
  {
   "cell_type": "code",
   "execution_count": 49,
   "metadata": {
    "ExecuteTime": {
     "end_time": "2019-01-17T10:39:45.171000Z",
     "start_time": "2019-01-17T10:39:45.148000Z"
    }
   },
   "outputs": [
    {
     "data": {
      "text/html": [
       "<div>\n",
       "<style scoped>\n",
       "    .dataframe tbody tr th:only-of-type {\n",
       "        vertical-align: middle;\n",
       "    }\n",
       "\n",
       "    .dataframe tbody tr th {\n",
       "        vertical-align: top;\n",
       "    }\n",
       "\n",
       "    .dataframe thead th {\n",
       "        text-align: right;\n",
       "    }\n",
       "</style>\n",
       "<table border=\"1\" class=\"dataframe\">\n",
       "  <thead>\n",
       "    <tr style=\"text-align: right;\">\n",
       "      <th></th>\n",
       "      <th>temperature</th>\n",
       "      <th>label</th>\n",
       "    </tr>\n",
       "  </thead>\n",
       "  <tbody>\n",
       "    <tr>\n",
       "      <th>6</th>\n",
       "      <td>64</td>\n",
       "      <td>Yes</td>\n",
       "    </tr>\n",
       "    <tr>\n",
       "      <th>5</th>\n",
       "      <td>65</td>\n",
       "      <td>No</td>\n",
       "    </tr>\n",
       "    <tr>\n",
       "      <th>4</th>\n",
       "      <td>68</td>\n",
       "      <td>Yes</td>\n",
       "    </tr>\n",
       "    <tr>\n",
       "      <th>8</th>\n",
       "      <td>69</td>\n",
       "      <td>Yes</td>\n",
       "    </tr>\n",
       "    <tr>\n",
       "      <th>3</th>\n",
       "      <td>70</td>\n",
       "      <td>Yes</td>\n",
       "    </tr>\n",
       "    <tr>\n",
       "      <th>13</th>\n",
       "      <td>71</td>\n",
       "      <td>No</td>\n",
       "    </tr>\n",
       "    <tr>\n",
       "      <th>7</th>\n",
       "      <td>72</td>\n",
       "      <td>No</td>\n",
       "    </tr>\n",
       "    <tr>\n",
       "      <th>11</th>\n",
       "      <td>72</td>\n",
       "      <td>Yes</td>\n",
       "    </tr>\n",
       "    <tr>\n",
       "      <th>9</th>\n",
       "      <td>75</td>\n",
       "      <td>Yes</td>\n",
       "    </tr>\n",
       "    <tr>\n",
       "      <th>10</th>\n",
       "      <td>75</td>\n",
       "      <td>Yes</td>\n",
       "    </tr>\n",
       "    <tr>\n",
       "      <th>1</th>\n",
       "      <td>80</td>\n",
       "      <td>No</td>\n",
       "    </tr>\n",
       "    <tr>\n",
       "      <th>12</th>\n",
       "      <td>81</td>\n",
       "      <td>Yes</td>\n",
       "    </tr>\n",
       "    <tr>\n",
       "      <th>2</th>\n",
       "      <td>83</td>\n",
       "      <td>Yes</td>\n",
       "    </tr>\n",
       "    <tr>\n",
       "      <th>0</th>\n",
       "      <td>85</td>\n",
       "      <td>No</td>\n",
       "    </tr>\n",
       "  </tbody>\n",
       "</table>\n",
       "</div>"
      ],
      "text/plain": [
       "    temperature label\n",
       "6            64   Yes\n",
       "5            65    No\n",
       "4            68   Yes\n",
       "8            69   Yes\n",
       "3            70   Yes\n",
       "13           71    No\n",
       "7            72    No\n",
       "11           72   Yes\n",
       "9            75   Yes\n",
       "10           75   Yes\n",
       "1            80    No\n",
       "12           81   Yes\n",
       "2            83   Yes\n",
       "0            85    No"
      ]
     },
     "execution_count": 49,
     "metadata": {},
     "output_type": "execute_result"
    }
   ],
   "source": [
    "dataset[['temperature', 'label']].sort_values(by = 'temperature')\n",
    "\n",
    "#根据http://info.psu.edu.sa/psu/cis/asameh/cs-500/dm7-decision-tree-c45.ppt，我们的划分点应该为\n",
    "# 64.5 66.5 70.5 72 72 77.5 80.5 84"
   ]
  },
  {
   "cell_type": "markdown",
   "metadata": {
    "ExecuteTime": {
     "end_time": "2019-01-17T09:50:12.279000Z",
     "start_time": "2019-01-17T09:50:12.223000Z"
    }
   },
   "source": [
    "#### 64.5进行划分"
   ]
  },
  {
   "cell_type": "code",
   "execution_count": 43,
   "metadata": {
    "ExecuteTime": {
     "end_time": "2019-01-17T10:31:30.674000Z",
     "start_time": "2019-01-17T10:31:30.626000Z"
    }
   },
   "outputs": [
    {
     "name": "stdout",
     "output_type": "stream",
     "text": [
      "Yes    8\n",
      "No     5\n",
      "Name: label, dtype: int64\n",
      "\n",
      "13\n",
      "\n",
      "Yes    1\n",
      "Name: label, dtype: int64\n"
     ]
    }
   ],
   "source": [
    "labels_temperature_64_5 = dataset[dataset['temperature'] > 64.5]['label'].value_counts()\n",
    "print(labels_temperature_64_5)\n",
    "print()\n",
    "print(len(dataset[dataset['temperature'] > 64.5]))\n",
    "print()\n",
    "print(dataset[dataset['temperature'] < 64.5]['label'].value_counts())"
   ]
  },
  {
   "cell_type": "code",
   "execution_count": 102,
   "metadata": {
    "ExecuteTime": {
     "end_time": "2019-01-17T10:51:36.159000Z",
     "start_time": "2019-01-17T10:51:36.154000Z"
    }
   },
   "outputs": [
    {
     "name": "stdout",
     "output_type": "stream",
     "text": [
      "0.371232326641\n",
      "0.892576847243\n",
      "result entropy_ratio_temperature_64_5: -0.537111487166\n"
     ]
    }
   ],
   "source": [
    "IV_temperature_64_5 = - ( (13 / 14) * np.log2(13 / 14) + ( (1 / 14) * np.log2(1 / 14) ) ) #这里踩了个坑，没有加括号，求出来为负值了\n",
    "print(IV_temperature_64_5)\n",
    "entropy_temperature_64_5 = -( (13 / 14) * ( (8 / 13) * np.log2(8 / 13) + (5 / 13 * np.log2(5 / 13)) ) )\n",
    "print(entropy_temperature_64_5)\n",
    "entropy_ratio_temperature_64_5 = (entropy_dataset - entropy_temperature_64_5 - continuous_cost) / IV_temperature_64_5\n",
    "print('result entropy_ratio_temperature_64_5:', entropy_ratio_temperature_64_5)"
   ]
  },
  {
   "cell_type": "markdown",
   "metadata": {},
   "source": [
    "#### 66.5进行划分"
   ]
  },
  {
   "cell_type": "code",
   "execution_count": 54,
   "metadata": {
    "ExecuteTime": {
     "end_time": "2019-01-17T10:51:38.753000Z",
     "start_time": "2019-01-17T10:51:38.736000Z"
    }
   },
   "outputs": [
    {
     "name": "stdout",
     "output_type": "stream",
     "text": [
      "Yes    8\n",
      "No     4\n",
      "Name: label, dtype: int64\n",
      "\n",
      "12\n",
      "\n",
      "No     1\n",
      "Yes    1\n",
      "Name: label, dtype: int64\n"
     ]
    }
   ],
   "source": [
    "labels_temperature_66_5 = dataset[dataset['temperature'] > 66.5]['label'].value_counts()\n",
    "print(labels_temperature_66_5)\n",
    "print()\n",
    "print(len(dataset[dataset['temperature'] > 66.5]))\n",
    "print()\n",
    "print(dataset[dataset['temperature'] < 66.5]['label'].value_counts())"
   ]
  },
  {
   "cell_type": "code",
   "execution_count": 103,
   "metadata": {
    "ExecuteTime": {
     "end_time": "2019-01-17T10:51:43.784000Z",
     "start_time": "2019-01-17T10:51:43.779000Z"
    }
   },
   "outputs": [
    {
     "name": "stdout",
     "output_type": "stream",
     "text": [
      "0.591672778582\n",
      "0.929967857761\n",
      "result entropy_ratio_temperature_66_5: -0.400194442157\n"
     ]
    }
   ],
   "source": [
    "IV_temperature_66_5 = - ( (12 / 14) * np.log2(12 / 14) + ( (2 / 14) * np.log2(2 / 14) ) )\n",
    "print(IV_temperature_66_5)\n",
    "\n",
    "entropy_temperature_66_5 = -( (12 / 14) * (8 / 12 * np.log2(8 / 12) + ( (4 / 12) * np.log2(4 / 12))) ) - \\\n",
    "( (2 / 14) * ( (1 / 2) * np.log2(1 / 2) + ( (1 / 2) * np.log2(1 / 2)) ) )\n",
    "\n",
    "print(entropy_temperature_66_5)\n",
    "\n",
    "entropy_temperature_ratio_66_5 = (entropy_dataset - entropy_temperature_66_5 - continuous_cost) / IV_temperature_66_5\n",
    "print('result entropy_ratio_temperature_66_5:', entropy_temperature_ratio_66_5)"
   ]
  },
  {
   "cell_type": "markdown",
   "metadata": {},
   "source": [
    "#### 70.5 进行划分"
   ]
  },
  {
   "cell_type": "code",
   "execution_count": 56,
   "metadata": {
    "ExecuteTime": {
     "end_time": "2019-01-17T10:51:49.333000Z",
     "start_time": "2019-01-17T10:51:49.318000Z"
    }
   },
   "outputs": [
    {
     "name": "stdout",
     "output_type": "stream",
     "text": [
      "Yes    5\n",
      "No     4\n",
      "Name: label, dtype: int64\n",
      "\n",
      "9\n",
      "\n",
      "Yes    4\n",
      "No     1\n",
      "Name: label, dtype: int64\n"
     ]
    }
   ],
   "source": [
    "labels_temperature_70_5 = dataset[dataset['temperature'] > 70.5]['label'].value_counts()\n",
    "print(labels_temperature_70_5)\n",
    "print()\n",
    "print(len(dataset[dataset['temperature'] > 70.5]))\n",
    "print()\n",
    "print(dataset[dataset['temperature'] < 70.5]['label'].value_counts())"
   ]
  },
  {
   "cell_type": "code",
   "execution_count": 104,
   "metadata": {
    "ExecuteTime": {
     "end_time": "2019-01-17T10:51:54.064000Z",
     "start_time": "2019-01-17T10:51:54.044000Z"
    }
   },
   "outputs": [
    {
     "name": "stdout",
     "output_type": "stream",
     "text": [
      "0.940285958671\n",
      "result entropy_ratio_temperature_70_5: -0.214581622308\n"
     ]
    }
   ],
   "source": [
    "IV_temperature_70_5 = - ( (5 / 14) * np.log2(5 / 14) + (9 / 14) * np.log2(9 / 14) ) \n",
    "print(IV_temperature_70_5)\n",
    "entropy_temperature_70_5 = -( (9 / 14) * ( (5 / 9) * np.log2(5 / 9) + (4 / 9 * np.log2(4 / 9))) ) - \\\n",
    "( (5 / 14) * ( (1 / 5) * np.log2(1 / 5) + (4 / 5) * np.log2(4 / 5) ) )\n",
    "\n",
    "entropy_ratio_temperature_70_5 = (entropy_dataset - entropy_temperature_70_5 - continuous_cost) / IV_temperature_70_5\n",
    "print('result entropy_ratio_temperature_70_5:', entropy_ratio_temperature_70_5)"
   ]
  },
  {
   "cell_type": "markdown",
   "metadata": {},
   "source": [
    "#### 72-进行划分"
   ]
  },
  {
   "cell_type": "code",
   "execution_count": 58,
   "metadata": {
    "ExecuteTime": {
     "end_time": "2019-01-17T10:51:57.111000Z",
     "start_time": "2019-01-17T10:51:57.090000Z"
    }
   },
   "outputs": [
    {
     "name": "stdout",
     "output_type": "stream",
     "text": [
      "Yes    4\n",
      "No     2\n",
      "Name: label, dtype: int64\n",
      "\n",
      "6\n",
      "\n",
      "Yes    5\n",
      "No     3\n",
      "Name: label, dtype: int64\n"
     ]
    }
   ],
   "source": [
    "labels_temperature_72_ = dataset[dataset['temperature'] > 72]['label'].value_counts()\n",
    "print(labels_temperature_72_)\n",
    "print()\n",
    "print(len(dataset[dataset['temperature'] > 72]))\n",
    "print()\n",
    "print(dataset[dataset['temperature'] <= 72]['label'].value_counts()) #这是个坑，需要注意"
   ]
  },
  {
   "cell_type": "code",
   "execution_count": 105,
   "metadata": {
    "ExecuteTime": {
     "end_time": "2019-01-17T10:52:09.740000Z",
     "start_time": "2019-01-17T10:52:09.728000Z"
    }
   },
   "outputs": [
    {
     "name": "stdout",
     "output_type": "stream",
     "text": [
      "0.985228136034\n",
      "result entropy_ratio_temperature_72_: -0.249447317917\n"
     ]
    }
   ],
   "source": [
    "IV_temperature_72_ = -( (6 / 14) * np.log2(6 / 14) + (8 / 14) * np.log2(8 / 14) ) \n",
    "print(IV_temperature_72_)\n",
    "\n",
    "entropy_temperature_72_ = -(6 / 14) * ( (4 / 6) * np.log2(4 / 6) +  (2 / 6) * np.log2(2 / 6) )   - \\\n",
    "(8 / 14) * ( (5 / 8) * np.log2(5 / 8) + ( (3 / 8) * np.log2(3 / 8)) )\n",
    "\n",
    "entropy_ratio_temperature_72_ = (entropy_dataset - entropy_temperature_72_ - continuous_cost) / IV_temperature_72_\n",
    "print('result entropy_ratio_temperature_72_:', entropy_ratio_temperature_72_)"
   ]
  },
  {
   "cell_type": "markdown",
   "metadata": {},
   "source": [
    "#### 72+进行划分"
   ]
  },
  {
   "cell_type": "code",
   "execution_count": 106,
   "metadata": {
    "ExecuteTime": {
     "end_time": "2019-01-17T10:52:12.354000Z",
     "start_time": "2019-01-17T10:52:12.333000Z"
    }
   },
   "outputs": [
    {
     "name": "stdout",
     "output_type": "stream",
     "text": [
      "Yes    5\n",
      "No     3\n",
      "Name: label, dtype: int64\n",
      "\n",
      "8\n",
      "\n",
      "Yes    4\n",
      "No     2\n",
      "Name: label, dtype: int64\n"
     ]
    }
   ],
   "source": [
    "labels_temperature_72_add = dataset[dataset['temperature'] >= 72]['label'].value_counts()\n",
    "print(labels_temperature_72_add)\n",
    "print()\n",
    "print(len(dataset[dataset['temperature'] >= 72]))\n",
    "print()\n",
    "print(dataset[dataset['temperature'] < 72]['label'].value_counts()) #这是个坑，需要注意"
   ]
  },
  {
   "cell_type": "code",
   "execution_count": 107,
   "metadata": {
    "ExecuteTime": {
     "end_time": "2019-01-17T10:52:25.903000Z",
     "start_time": "2019-01-17T10:52:25.891000Z"
    }
   },
   "outputs": [
    {
     "name": "stdout",
     "output_type": "stream",
     "text": [
      "0.985228136034\n",
      "result entropy_ratio_temperature_72_add: -0.249447317917\n"
     ]
    }
   ],
   "source": [
    "IV_temperature_72_add = -( (8 / 14) * np.log2(8 / 14) + (6 / 14) * np.log2(6 / 14) ) \n",
    "print(IV_temperature_72_add)\n",
    "\n",
    "entropy_temperature_72_add = -(8 / 14) * ( (5 / 8 * np.log2(5 / 8) + ( (3 / 8) * np.log2(3 / 8))) ) - \\\n",
    "(6 / 14) * ( (2 / 6) * np.log2(2 / 6) + ( (4 / 6) * np.log2(4 / 6)) )\n",
    "\n",
    "entropy_ratio_temperature_72_add = (entropy_dataset - entropy_temperature_72_add - continuous_cost) / IV_temperature_72_add\n",
    "print('result entropy_ratio_temperature_72_add:', entropy_ratio_temperature_72_add)"
   ]
  },
  {
   "cell_type": "markdown",
   "metadata": {},
   "source": [
    "#### 77.5进行划分"
   ]
  },
  {
   "cell_type": "code",
   "execution_count": 62,
   "metadata": {
    "ExecuteTime": {
     "end_time": "2019-01-17T10:52:29.343000Z",
     "start_time": "2019-01-17T10:52:29.328000Z"
    }
   },
   "outputs": [
    {
     "name": "stdout",
     "output_type": "stream",
     "text": [
      "No     2\n",
      "Yes    2\n",
      "Name: label, dtype: int64\n",
      "\n",
      "4\n",
      "\n",
      "Yes    7\n",
      "No     3\n",
      "Name: label, dtype: int64\n"
     ]
    }
   ],
   "source": [
    "labels_temperature_77_5 = dataset[dataset['temperature'] > 77.5]['label'].value_counts()\n",
    "print(labels_temperature_77_5)\n",
    "print()\n",
    "print(len(dataset[dataset['temperature'] > 77.5]))\n",
    "print()\n",
    "print(dataset[dataset['temperature'] < 77.5]['label'].value_counts())"
   ]
  },
  {
   "cell_type": "code",
   "execution_count": 108,
   "metadata": {
    "ExecuteTime": {
     "end_time": "2019-01-17T10:54:07.144000Z",
     "start_time": "2019-01-17T10:54:07.130000Z"
    }
   },
   "outputs": [
    {
     "name": "stdout",
     "output_type": "stream",
     "text": [
      "0.863120568567\n",
      "result entropy_ratio_temperature_77_5: -0.257234149033\n"
     ]
    }
   ],
   "source": [
    "IV_temperature_77_5 = - ( (4 / 14) * np.log2(4 / 14) + (10 / 14) * np.log2(10 / 14) ) \n",
    "print(IV_temperature_77_5)\n",
    "entropy_temperature_77_5 = -( (4 / 14) * ( (2 / 4) * np.log2(2 / 4) + ( (2 / 4) * np.log2(2 / 4)) ) ) - \\\n",
    "( (10 / 14) * ( (7 / 10) * np.log2(7 / 10) + (3 / 10) * np.log2(3 / 10) ) )\n",
    "\n",
    "entropy_ratio_temperature_77_5 = (entropy_dataset - entropy_temperature_77_5 - continuous_cost) / IV_temperature_77_5\n",
    "print('result entropy_ratio_temperature_77_5:', entropy_ratio_temperature_77_5)"
   ]
  },
  {
   "cell_type": "markdown",
   "metadata": {},
   "source": [
    "#### 80.5进行划分"
   ]
  },
  {
   "cell_type": "code",
   "execution_count": 67,
   "metadata": {
    "ExecuteTime": {
     "end_time": "2019-01-17T10:54:13.132000Z",
     "start_time": "2019-01-17T10:54:13.103000Z"
    }
   },
   "outputs": [
    {
     "name": "stdout",
     "output_type": "stream",
     "text": [
      "Yes    2\n",
      "No     1\n",
      "Name: label, dtype: int64\n",
      "\n",
      "3\n",
      "\n",
      "Yes    7\n",
      "No     4\n",
      "Name: label, dtype: int64\n"
     ]
    }
   ],
   "source": [
    "labels_temperature_80_5 = dataset[dataset['temperature'] > 80.5]['label'].value_counts()\n",
    "print(labels_temperature_80_5)\n",
    "print()\n",
    "print(len(dataset[dataset['temperature'] > 80.5]))\n",
    "print()\n",
    "print(dataset[dataset['temperature'] < 80.5]['label'].value_counts())"
   ]
  },
  {
   "cell_type": "code",
   "execution_count": 109,
   "metadata": {
    "ExecuteTime": {
     "end_time": "2019-01-17T10:54:17.441000Z",
     "start_time": "2019-01-17T10:54:17.432000Z"
    }
   },
   "outputs": [
    {
     "name": "stdout",
     "output_type": "stream",
     "text": [
      "0.749595257259\n",
      "result entropy_ratio_temperature_80_5: -0.328994596616\n"
     ]
    }
   ],
   "source": [
    "IV_temperature_80_5 = - ( (3 / 14) * np.log2(3 / 14) + (11 / 14) * np.log2(11 / 14) ) \n",
    "print(IV_temperature_80_5)\n",
    "entropy_temperature_80_5 = -( (3 / 14) * ( (2 / 3) * np.log2(2 / 3) + ( (1 / 3) * np.log2(1 / 3)) ) ) - \\\n",
    "( (11 / 14) * ( (4 / 11) * np.log2(4 / 11) + (7 / 11) * np.log2(7 / 11) ) )\n",
    "\n",
    "entropy_ratio_temperature_80_5 = (entropy_dataset - entropy_temperature_80_5- continuous_cost) / IV_temperature_80_5\n",
    "print('result entropy_ratio_temperature_80_5:', entropy_ratio_temperature_80_5)"
   ]
  },
  {
   "cell_type": "markdown",
   "metadata": {},
   "source": [
    "#### 84进行划分"
   ]
  },
  {
   "cell_type": "code",
   "execution_count": 69,
   "metadata": {
    "ExecuteTime": {
     "end_time": "2019-01-17T10:54:27.386000Z",
     "start_time": "2019-01-17T10:54:27.367000Z"
    }
   },
   "outputs": [
    {
     "name": "stdout",
     "output_type": "stream",
     "text": [
      "No    1\n",
      "Name: label, dtype: int64\n",
      "\n",
      "1\n",
      "\n",
      "Yes    9\n",
      "No     4\n",
      "Name: label, dtype: int64\n"
     ]
    }
   ],
   "source": [
    "labels_temperature_84 = dataset[dataset['temperature'] > 84]['label'].value_counts()\n",
    "print(labels_temperature_84)\n",
    "print()\n",
    "print(len(dataset[dataset['temperature'] > 84]))\n",
    "print()\n",
    "print(dataset[dataset['temperature'] < 84]['label'].value_counts())"
   ]
  },
  {
   "cell_type": "code",
   "execution_count": 110,
   "metadata": {
    "ExecuteTime": {
     "end_time": "2019-01-17T11:14:21.283000Z",
     "start_time": "2019-01-17T11:14:21.277000Z"
    }
   },
   "outputs": [
    {
     "name": "stdout",
     "output_type": "stream",
     "text": [
      "0.371232326641\n",
      "0.82688509449\n",
      "result entropy_ratio_temperature_84: -0.360155581015\n"
     ]
    }
   ],
   "source": [
    "IV_temperature_84 = - ( (1 / 14) * np.log2(1 / 14) + (13 / 14) * np.log2(13 / 14) ) \n",
    "print(IV_temperature_84)\n",
    "\n",
    "entropy_temperature_84 = -( (13 / 14) * ( (4 / 13) * np.log2(4 / 13) + ( (9 / 13) * np.log2(9 / 13)) ) )\n",
    "print(entropy_temperature_84)\n",
    "\n",
    "entropy_temperature_ratio_84 = (entropy_dataset - entropy_temperature_84 - continuous_cost) / IV_temperature_84\n",
    "print('result entropy_ratio_temperature_84:', entropy_temperature_ratio_84)"
   ]
  },
  {
   "cell_type": "code",
   "execution_count": null,
   "metadata": {
    "collapsed": true
   },
   "outputs": [],
   "source": [
    "# 发现减完论文中的常数后，都变成了负数"
   ]
  },
  {
   "cell_type": "markdown",
   "metadata": {},
   "source": [
    "### 计算humidity的信息增益率"
   ]
  },
  {
   "cell_type": "code",
   "execution_count": 50,
   "metadata": {
    "ExecuteTime": {
     "end_time": "2019-01-17T10:43:31.075000Z",
     "start_time": "2019-01-17T10:43:31.053000Z"
    }
   },
   "outputs": [
    {
     "data": {
      "text/html": [
       "<div>\n",
       "<style scoped>\n",
       "    .dataframe tbody tr th:only-of-type {\n",
       "        vertical-align: middle;\n",
       "    }\n",
       "\n",
       "    .dataframe tbody tr th {\n",
       "        vertical-align: top;\n",
       "    }\n",
       "\n",
       "    .dataframe thead th {\n",
       "        text-align: right;\n",
       "    }\n",
       "</style>\n",
       "<table border=\"1\" class=\"dataframe\">\n",
       "  <thead>\n",
       "    <tr style=\"text-align: right;\">\n",
       "      <th></th>\n",
       "      <th>humidity</th>\n",
       "      <th>label</th>\n",
       "    </tr>\n",
       "  </thead>\n",
       "  <tbody>\n",
       "    <tr>\n",
       "      <th>6</th>\n",
       "      <td>65</td>\n",
       "      <td>Yes</td>\n",
       "    </tr>\n",
       "    <tr>\n",
       "      <th>5</th>\n",
       "      <td>70</td>\n",
       "      <td>No</td>\n",
       "    </tr>\n",
       "    <tr>\n",
       "      <th>8</th>\n",
       "      <td>70</td>\n",
       "      <td>Yes</td>\n",
       "    </tr>\n",
       "    <tr>\n",
       "      <th>10</th>\n",
       "      <td>70</td>\n",
       "      <td>Yes</td>\n",
       "    </tr>\n",
       "    <tr>\n",
       "      <th>12</th>\n",
       "      <td>75</td>\n",
       "      <td>Yes</td>\n",
       "    </tr>\n",
       "    <tr>\n",
       "      <th>2</th>\n",
       "      <td>78</td>\n",
       "      <td>Yes</td>\n",
       "    </tr>\n",
       "    <tr>\n",
       "      <th>4</th>\n",
       "      <td>80</td>\n",
       "      <td>Yes</td>\n",
       "    </tr>\n",
       "    <tr>\n",
       "      <th>9</th>\n",
       "      <td>80</td>\n",
       "      <td>Yes</td>\n",
       "    </tr>\n",
       "    <tr>\n",
       "      <th>13</th>\n",
       "      <td>80</td>\n",
       "      <td>No</td>\n",
       "    </tr>\n",
       "    <tr>\n",
       "      <th>0</th>\n",
       "      <td>85</td>\n",
       "      <td>No</td>\n",
       "    </tr>\n",
       "    <tr>\n",
       "      <th>1</th>\n",
       "      <td>90</td>\n",
       "      <td>No</td>\n",
       "    </tr>\n",
       "    <tr>\n",
       "      <th>11</th>\n",
       "      <td>90</td>\n",
       "      <td>Yes</td>\n",
       "    </tr>\n",
       "    <tr>\n",
       "      <th>7</th>\n",
       "      <td>95</td>\n",
       "      <td>No</td>\n",
       "    </tr>\n",
       "    <tr>\n",
       "      <th>3</th>\n",
       "      <td>96</td>\n",
       "      <td>Yes</td>\n",
       "    </tr>\n",
       "  </tbody>\n",
       "</table>\n",
       "</div>"
      ],
      "text/plain": [
       "    humidity label\n",
       "6         65   Yes\n",
       "5         70    No\n",
       "8         70   Yes\n",
       "10        70   Yes\n",
       "12        75   Yes\n",
       "2         78   Yes\n",
       "4         80   Yes\n",
       "9         80   Yes\n",
       "13        80    No\n",
       "0         85    No\n",
       "1         90    No\n",
       "11        90   Yes\n",
       "7         95    No\n",
       "3         96   Yes"
      ]
     },
     "execution_count": 50,
     "metadata": {},
     "output_type": "execute_result"
    }
   ],
   "source": [
    "dataset[['humidity', 'label']].sort_values(by = 'humidity')\n",
    "\n",
    "#划分点为67.5 70- 70+ 80- 80+ 90- 90+ 92.5 95.5"
   ]
  },
  {
   "cell_type": "markdown",
   "metadata": {},
   "source": [
    "#### 67.5进行划分"
   ]
  },
  {
   "cell_type": "code",
   "execution_count": 112,
   "metadata": {
    "ExecuteTime": {
     "end_time": "2019-01-17T11:43:27.816000Z",
     "start_time": "2019-01-17T11:43:27.802000Z"
    }
   },
   "outputs": [
    {
     "name": "stdout",
     "output_type": "stream",
     "text": [
      "Yes    8\n",
      "No     5\n",
      "Name: label, dtype: int64\n",
      "\n",
      "13\n",
      "\n",
      "Yes    1\n",
      "Name: label, dtype: int64\n"
     ]
    }
   ],
   "source": [
    "labels_humidity_67_5 = dataset[dataset['humidity'] > 67.5]['label'].value_counts()\n",
    "print(labels_humidity_67_5)\n",
    "print()\n",
    "print(len(dataset[dataset['humidity'] > 67.5]))\n",
    "print()\n",
    "print(dataset[dataset['humidity'] < 67.5]['label'].value_counts())"
   ]
  },
  {
   "cell_type": "code",
   "execution_count": 111,
   "metadata": {
    "ExecuteTime": {
     "end_time": "2019-01-17T11:44:52.189000Z",
     "start_time": "2019-01-17T11:44:52.181000Z"
    }
   },
   "outputs": [
    {
     "name": "stdout",
     "output_type": "stream",
     "text": [
      "0.371232326641\n",
      "0.892576847243\n",
      "result entropy_ratio_humidity_67_5: -0.537111487166\n"
     ]
    }
   ],
   "source": [
    "IV_humidity_67_5 = - ( (13 / 14) * np.log2(13 / 14) + ( (1 / 14) * np.log2(1 / 14) ) ) #这里踩了个坑，没有加括号，求出来为负值了\n",
    "print(IV_humidity_67_5)\n",
    "\n",
    "entropy_humidity_67_5 = -( (13 / 14) * ( (8 / 13) * np.log2(8 / 13) + (5 / 13 * np.log2(5 / 13)) ) )\n",
    "\n",
    "print(entropy_humidity_67_5)\n",
    "entropy_ratio_humidity_67_5 = (entropy_dataset - entropy_humidity_67_5 - continuous_cost) / IV_humidity_67_5\n",
    "print('result entropy_ratio_humidity_67_5:', entropy_ratio_humidity_67_5)"
   ]
  },
  {
   "cell_type": "markdown",
   "metadata": {},
   "source": [
    "#### 70-进行划分"
   ]
  },
  {
   "cell_type": "code",
   "execution_count": 95,
   "metadata": {
    "ExecuteTime": {
     "end_time": "2019-01-17T11:24:38.226000Z",
     "start_time": "2019-01-17T11:24:38.209000Z"
    }
   },
   "outputs": [
    {
     "name": "stdout",
     "output_type": "stream",
     "text": [
      "Yes    6\n",
      "No     4\n",
      "Name: label, dtype: int64\n",
      "\n",
      "10\n",
      "\n",
      "Yes    3\n",
      "No     1\n",
      "Name: label, dtype: int64\n"
     ]
    }
   ],
   "source": [
    "labels_humidity_70_ = dataset[dataset['humidity'] > 70]['label'].value_counts()\n",
    "print(labels_humidity_70_)\n",
    "print()\n",
    "print(len(dataset[dataset['humidity'] > 70]))\n",
    "print()\n",
    "print(dataset[dataset['humidity'] <= 70]['label'].value_counts()) #这是个坑，需要注意"
   ]
  },
  {
   "cell_type": "code",
   "execution_count": 112,
   "metadata": {
    "ExecuteTime": {
     "end_time": "2019-01-17T11:24:43.736000Z",
     "start_time": "2019-01-17T11:24:43.722000Z"
    }
   },
   "outputs": [
    {
     "name": "stdout",
     "output_type": "stream",
     "text": [
      "0.863120568567\n",
      "result entropy_ratio_humidity_70_: -0.268961483482\n"
     ]
    }
   ],
   "source": [
    "IV_humidity_70_ = -( (10 / 14) * np.log2(10 / 14) + (4 / 14) * np.log2(4 / 14) ) \n",
    "print(IV_humidity_70_)\n",
    "\n",
    "entropy_humidity_70_ = -(10 / 14) * ( (4 / 10) * np.log2(4 / 10) +  (6 / 10) * np.log2(6 / 10) )   - \\\n",
    "(4 / 14) * ( (3 / 4) * np.log2(3 / 4) + ( (1 / 4) * np.log2(1 / 4)) )\n",
    "\n",
    "entropy_ratio_humidity_70_ = (entropy_dataset - entropy_humidity_70_ - continuous_cost) / IV_humidity_70_\n",
    "print('result entropy_ratio_humidity_70_:', entropy_ratio_humidity_70_)"
   ]
  },
  {
   "cell_type": "markdown",
   "metadata": {},
   "source": [
    "#### 70+进行划分"
   ]
  },
  {
   "cell_type": "code",
   "execution_count": 97,
   "metadata": {
    "ExecuteTime": {
     "end_time": "2019-01-17T11:24:48.752000Z",
     "start_time": "2019-01-17T11:24:48.737000Z"
    }
   },
   "outputs": [
    {
     "name": "stdout",
     "output_type": "stream",
     "text": [
      "Yes    8\n",
      "No     5\n",
      "Name: label, dtype: int64\n",
      "\n",
      "13\n",
      "\n",
      "Yes    1\n",
      "Name: label, dtype: int64\n"
     ]
    }
   ],
   "source": [
    "labels_humidity_70_add = dataset[dataset['humidity'] >= 70]['label'].value_counts()\n",
    "print(labels_humidity_70_add)\n",
    "print()\n",
    "print(len(dataset[dataset['humidity'] >= 70]))\n",
    "print()\n",
    "print(dataset[dataset['humidity'] < 70]['label'].value_counts()) #这是个坑，需要注意"
   ]
  },
  {
   "cell_type": "code",
   "execution_count": 113,
   "metadata": {
    "ExecuteTime": {
     "end_time": "2019-01-17T11:25:19.959000Z",
     "start_time": "2019-01-17T11:25:19.948000Z"
    }
   },
   "outputs": [
    {
     "name": "stdout",
     "output_type": "stream",
     "text": [
      "0.371232326641\n",
      "result entropy_ratio_humidity_70_add: -0.537111487166\n"
     ]
    }
   ],
   "source": [
    "IV_humidity_70_add = -( (13 / 14) * np.log2(13 / 14) + (1 / 14) * np.log2(1 / 14) ) \n",
    "print(IV_humidity_70_add)\n",
    "\n",
    "entropy_humidity_70_add = -(13 / 14) * ( (5 / 13 * np.log2(5 / 13) + ( (8 / 13) * np.log2(8 / 13))) )\n",
    "\n",
    "entropy_ratio_humidity_70_add = (entropy_dataset - entropy_humidity_70_add - continuous_cost) / IV_humidity_70_add\n",
    "print('result entropy_ratio_humidity_70_add:', entropy_ratio_humidity_70_add)"
   ]
  },
  {
   "cell_type": "markdown",
   "metadata": {},
   "source": [
    "#### 80-进行划分"
   ]
  },
  {
   "cell_type": "code",
   "execution_count": 99,
   "metadata": {
    "ExecuteTime": {
     "end_time": "2019-01-17T11:28:11.044000Z",
     "start_time": "2019-01-17T11:28:11.025000Z"
    }
   },
   "outputs": [
    {
     "name": "stdout",
     "output_type": "stream",
     "text": [
      "No     3\n",
      "Yes    2\n",
      "Name: label, dtype: int64\n",
      "\n",
      "5\n",
      "\n",
      "Yes    7\n",
      "No     2\n",
      "Name: label, dtype: int64\n"
     ]
    }
   ],
   "source": [
    "labels_humidity_80_ = dataset[dataset['humidity'] > 80]['label'].value_counts()\n",
    "print(labels_humidity_80_)\n",
    "print()\n",
    "print(len(dataset[dataset['humidity'] > 80]))\n",
    "print()\n",
    "print(dataset[dataset['humidity'] <= 80]['label'].value_counts()) #这是个坑，需要注意"
   ]
  },
  {
   "cell_type": "code",
   "execution_count": 114,
   "metadata": {
    "ExecuteTime": {
     "end_time": "2019-01-17T11:29:10.010000Z",
     "start_time": "2019-01-17T11:29:10.005000Z"
    }
   },
   "outputs": [
    {
     "name": "stdout",
     "output_type": "stream",
     "text": [
      "0.940285958671\n",
      "result entropy_ratio_humidity_80_: -0.154058128305\n"
     ]
    }
   ],
   "source": [
    "IV_humidity_80_ = -( (5 / 14) * np.log2(5 / 14) + (9 / 14) * np.log2(9 / 14) ) \n",
    "print(IV_humidity_80_)\n",
    "\n",
    "entropy_humidity_80_ = -(5 / 14) * ( (3 / 5) * np.log2(3 / 5) +  (2 / 5) * np.log2(2 / 5) )   - \\\n",
    "(9 / 14) * ( (7 / 9) * np.log2(7 / 9) + ( (2 / 9) * np.log2(2 / 9)) )\n",
    "\n",
    "entropy_ratio_humidity_80_ = (entropy_dataset - entropy_humidity_80_ - continuous_cost) / IV_humidity_80_\n",
    "print('result entropy_ratio_humidity_80_:', entropy_ratio_humidity_80_)"
   ]
  },
  {
   "cell_type": "markdown",
   "metadata": {},
   "source": [
    "####  80+进行划分"
   ]
  },
  {
   "cell_type": "code",
   "execution_count": 102,
   "metadata": {
    "ExecuteTime": {
     "end_time": "2019-01-17T11:34:33.824000Z",
     "start_time": "2019-01-17T11:34:33.813000Z"
    }
   },
   "outputs": [
    {
     "name": "stdout",
     "output_type": "stream",
     "text": [
      "No     4\n",
      "Yes    4\n",
      "Name: label, dtype: int64\n",
      "\n",
      "8\n",
      "\n",
      "Yes    5\n",
      "No     1\n",
      "Name: label, dtype: int64\n"
     ]
    }
   ],
   "source": [
    "labels_humidity_80_add = dataset[dataset['humidity'] >= 80]['label'].value_counts()\n",
    "print(labels_humidity_80_add)\n",
    "print()\n",
    "print(len(dataset[dataset['humidity'] >= 80]))\n",
    "print()\n",
    "print(dataset[dataset['humidity'] < 80]['label'].value_counts()) #这是个坑，需要注意"
   ]
  },
  {
   "cell_type": "code",
   "execution_count": 115,
   "metadata": {
    "ExecuteTime": {
     "end_time": "2019-01-17T11:35:25.334000Z",
     "start_time": "2019-01-17T11:35:25.313000Z"
    }
   },
   "outputs": [
    {
     "name": "stdout",
     "output_type": "stream",
     "text": [
      "0.985228136034\n",
      "result entropy_ratio_humidity_80_add: -0.159177253821\n"
     ]
    }
   ],
   "source": [
    "IV_humidity_80_add = -( (8 / 14) * np.log2(8 / 14) + (6 / 14) * np.log2(6 / 14) ) \n",
    "print(IV_humidity_80_add)\n",
    "\n",
    "entropy_humidity_80_add = -(8 / 14) * ( (4 / 8 * np.log2(4 / 8) + ( (4 / 8) * np.log2(4 / 8))) ) - \\\n",
    "(6 / 14) * ( (1 / 6) * np.log2(1 / 6) + ( (5 / 6) * np.log2(5 / 6)) )\n",
    "\n",
    "entropy_ratio_humidity_80_add = (entropy_dataset - entropy_humidity_80_add - continuous_cost) / IV_humidity_80_add\n",
    "print('result entropy_ratio_humidity_80_add:', entropy_ratio_humidity_80_add)"
   ]
  },
  {
   "cell_type": "markdown",
   "metadata": {},
   "source": [
    "#### 90-进行划分"
   ]
  },
  {
   "cell_type": "code",
   "execution_count": 114,
   "metadata": {
    "ExecuteTime": {
     "end_time": "2019-01-17T11:45:09.548000Z",
     "start_time": "2019-01-17T11:45:09.532000Z"
    }
   },
   "outputs": [
    {
     "name": "stdout",
     "output_type": "stream",
     "text": [
      "No     1\n",
      "Yes    1\n",
      "Name: label, dtype: int64\n",
      "\n",
      "2\n",
      "\n",
      "Yes    8\n",
      "No     4\n",
      "Name: label, dtype: int64\n"
     ]
    }
   ],
   "source": [
    "labels_humidity_90_ = dataset[dataset['humidity'] > 90]['label'].value_counts()\n",
    "print(labels_humidity_90_)\n",
    "print()\n",
    "print(len(dataset[dataset['humidity'] > 90]))\n",
    "print()\n",
    "print(dataset[dataset['humidity'] <= 90]['label'].value_counts()) #这是个坑，需要注意"
   ]
  },
  {
   "cell_type": "code",
   "execution_count": 116,
   "metadata": {
    "ExecuteTime": {
     "end_time": "2019-01-17T11:45:12.672000Z",
     "start_time": "2019-01-17T11:45:12.667000Z"
    }
   },
   "outputs": [
    {
     "name": "stdout",
     "output_type": "stream",
     "text": [
      "0.591672778582\n",
      "result entropy_ratio_humidity_90_: -0.400194442157\n"
     ]
    }
   ],
   "source": [
    "IV_humidity_90_ = -( (2 / 14) * np.log2(2 / 14) + (12 / 14) * np.log2(12 / 14) ) \n",
    "print(IV_humidity_90_)\n",
    "\n",
    "entropy_humidity_90_ = -(2 / 14) * ( (1 / 2) * np.log2(1 / 2) +  (1 / 2) * np.log2(1 / 2) )   - \\\n",
    "(12 / 14) * ( (8 / 12) * np.log2(8 / 12) + ( (4 / 12) * np.log2(4 / 12)) )\n",
    "\n",
    "entropy_ratio_humidity_90_ = (entropy_dataset - entropy_humidity_90_ - continuous_cost) / IV_humidity_90_\n",
    "print('result entropy_ratio_humidity_90_:', entropy_ratio_humidity_90_)"
   ]
  },
  {
   "cell_type": "markdown",
   "metadata": {},
   "source": [
    "#### 90+进行划分"
   ]
  },
  {
   "cell_type": "code",
   "execution_count": 116,
   "metadata": {
    "ExecuteTime": {
     "end_time": "2019-01-17T11:45:15.265000Z",
     "start_time": "2019-01-17T11:45:15.250000Z"
    }
   },
   "outputs": [
    {
     "name": "stdout",
     "output_type": "stream",
     "text": [
      "No     2\n",
      "Yes    2\n",
      "Name: label, dtype: int64\n",
      "\n",
      "4\n",
      "\n",
      "Yes    7\n",
      "No     3\n",
      "Name: label, dtype: int64\n"
     ]
    }
   ],
   "source": [
    "labels_humidity_90_add = dataset[dataset['humidity'] >= 90]['label'].value_counts()\n",
    "print(labels_humidity_90_add)\n",
    "print()\n",
    "print(len(dataset[dataset['humidity'] >= 90]))\n",
    "print()\n",
    "print(dataset[dataset['humidity'] < 90]['label'].value_counts()) #这是个坑，需要注意"
   ]
  },
  {
   "cell_type": "code",
   "execution_count": 117,
   "metadata": {
    "ExecuteTime": {
     "end_time": "2019-01-17T11:45:15.836000Z",
     "start_time": "2019-01-17T11:45:15.821000Z"
    }
   },
   "outputs": [
    {
     "name": "stdout",
     "output_type": "stream",
     "text": [
      "0.863120568567\n",
      "result entropy_ratio_humidity_90_add: -0.257234149033\n"
     ]
    }
   ],
   "source": [
    "IV_humidity_90_add = -( (4 / 14) * np.log2(4 / 14) + (10 / 14) * np.log2(10 / 14) ) \n",
    "print(IV_humidity_90_add)\n",
    "\n",
    "entropy_humidity_90_add = -(4 / 14) * ( (2 / 4 * np.log2(2 / 4) + ( (2 / 4) * np.log2(2 / 4))) ) - \\\n",
    "(10 / 14) * ( (7 / 10) * np.log2(7 / 10) + ( (3 / 10) * np.log2(3 / 10)) )\n",
    "\n",
    "entropy_ratio_humidity_90_add = (entropy_dataset - entropy_humidity_90_add - continuous_cost) / IV_humidity_90_add\n",
    "print('result entropy_ratio_humidity_90_add:', entropy_ratio_humidity_90_add)"
   ]
  },
  {
   "cell_type": "markdown",
   "metadata": {},
   "source": [
    "#### 92.5进行划分"
   ]
  },
  {
   "cell_type": "code",
   "execution_count": 118,
   "metadata": {
    "ExecuteTime": {
     "end_time": "2019-01-17T11:45:18.578000Z",
     "start_time": "2019-01-17T11:45:18.556000Z"
    }
   },
   "outputs": [
    {
     "name": "stdout",
     "output_type": "stream",
     "text": [
      "No     1\n",
      "Yes    1\n",
      "Name: label, dtype: int64\n",
      "\n",
      "2\n",
      "\n",
      "Yes    8\n",
      "No     4\n",
      "Name: label, dtype: int64\n"
     ]
    }
   ],
   "source": [
    "labels_humidity_92_5 = dataset[dataset['humidity'] > 92.5]['label'].value_counts()\n",
    "print(labels_humidity_92_5)\n",
    "print()\n",
    "print(len(dataset[dataset['humidity'] > 92.5]))\n",
    "print()\n",
    "print(dataset[dataset['humidity'] < 92.5]['label'].value_counts())"
   ]
  },
  {
   "cell_type": "code",
   "execution_count": 118,
   "metadata": {
    "ExecuteTime": {
     "end_time": "2019-01-17T11:47:51.351000Z",
     "start_time": "2019-01-17T11:47:51.340000Z"
    }
   },
   "outputs": [
    {
     "name": "stdout",
     "output_type": "stream",
     "text": [
      "0.591672778582\n",
      "0.929967857761\n",
      "result entropy_ratio_humidity_92_5: -0.400194442157\n"
     ]
    }
   ],
   "source": [
    "IV_humidity_92_5 = - ( (2 / 14) * np.log2(2 / 14) + ( (12 / 14) * np.log2(12 / 14) ) ) #这里踩了个坑，没有加括号，求出来为负值了\n",
    "print(IV_humidity_92_5)\n",
    "\n",
    "entropy_humidity_92_5 = -( (2 / 14) * ( (1 / 2) * np.log2(1 / 2) + (1 / 2 * np.log2(1 / 2)) ) ) - \\\n",
    "( (12 / 14) * ( (8 / 12) * np.log2(8 / 12) + (4 / 12 * np.log2(4 / 12)) ) )\n",
    "\n",
    "print(entropy_humidity_92_5)\n",
    "entropy_ratio_humidity_92_5 = (entropy_dataset - entropy_humidity_92_5 - continuous_cost) / IV_humidity_92_5\n",
    "print('result entropy_ratio_humidity_92_5:', entropy_ratio_humidity_92_5)"
   ]
  },
  {
   "cell_type": "markdown",
   "metadata": {},
   "source": [
    "#### 95.5进行划分"
   ]
  },
  {
   "cell_type": "code",
   "execution_count": 120,
   "metadata": {
    "ExecuteTime": {
     "end_time": "2019-01-17T11:48:57.488000Z",
     "start_time": "2019-01-17T11:48:57.478000Z"
    }
   },
   "outputs": [
    {
     "name": "stdout",
     "output_type": "stream",
     "text": [
      "Yes    1\n",
      "Name: label, dtype: int64\n",
      "\n",
      "1\n",
      "\n",
      "Yes    8\n",
      "No     5\n",
      "Name: label, dtype: int64\n"
     ]
    }
   ],
   "source": [
    "labels_humidity_95_5 = dataset[dataset['humidity'] > 95.5]['label'].value_counts()\n",
    "print(labels_humidity_95_5)\n",
    "print()\n",
    "print(len(dataset[dataset['humidity'] > 95.5]))\n",
    "print()\n",
    "print(dataset[dataset['humidity'] < 95.5]['label'].value_counts())"
   ]
  },
  {
   "cell_type": "code",
   "execution_count": 119,
   "metadata": {
    "ExecuteTime": {
     "end_time": "2019-01-17T11:49:37.793000Z",
     "start_time": "2019-01-17T11:49:37.783000Z"
    }
   },
   "outputs": [
    {
     "name": "stdout",
     "output_type": "stream",
     "text": [
      "0.371232326641\n",
      "0.892576847243\n",
      "result entropy_ratio_humidity_95_5: -0.537111487166\n"
     ]
    }
   ],
   "source": [
    "IV_humidity_95_5 = - ( (1 / 14) * np.log2(1 / 14) + ( (13 / 14) * np.log2(13 / 14) ) ) #这里踩了个坑，没有加括号，求出来为负值了\n",
    "print(IV_humidity_95_5)\n",
    "\n",
    "entropy_humidity_95_5 = -( (13 / 14) * ( (8 / 13) * np.log2(8 / 13) + (5 / 13 * np.log2(5 / 13)) ) )\n",
    "\n",
    "print(entropy_humidity_95_5)\n",
    "entropy_ratio_humidity_95_5 = (entropy_dataset - entropy_humidity_95_5 - continuous_cost) / IV_humidity_95_5\n",
    "print('result entropy_ratio_humidity_95_5:', entropy_ratio_humidity_95_5)"
   ]
  },
  {
   "cell_type": "markdown",
   "metadata": {},
   "source": [
    "## 结果汇总"
   ]
  },
  {
   "cell_type": "markdown",
   "metadata": {},
   "source": [
    "-  Outlook信息增益最大，所以Outlook为第一个分支"
   ]
  },
  {
   "cell_type": "markdown",
   "metadata": {},
   "source": [
    "- 根据Outlook分为三个小分支，Sunny Overcast Rain"
   ]
  },
  {
   "cell_type": "markdown",
   "metadata": {},
   "source": [
    "# 第二次分叉，对Outlook为Sunny的数据进行分叉"
   ]
  },
  {
   "cell_type": "code",
   "execution_count": 122,
   "metadata": {},
   "outputs": [
    {
     "name": "stdout",
     "output_type": "stream",
     "text": [
      "69    1\n",
      "85    1\n",
      "75    1\n",
      "72    1\n",
      "80    1\n",
      "Name: temperature, dtype: int64\n",
      "70    2\n",
      "95    1\n",
      "85    1\n",
      "90    1\n",
      "Name: humidity, dtype: int64\n",
      "Weak      3\n",
      "Strong    2\n",
      "Name: wind, dtype: int64\n"
     ]
    }
   ],
   "source": [
    "# 求每个特征的IV值\n",
    "dataset_2 = dataset[dataset.outlook == 'Sunny']\n",
    "\n",
    "print(dataset_2['temperature'].value_counts())\n",
    "print(dataset_2['humidity'].value_counts())\n",
    "print(dataset_2['wind'].value_counts())"
   ]
  },
  {
   "cell_type": "code",
   "execution_count": 125,
   "metadata": {},
   "outputs": [
    {
     "name": "stdout",
     "output_type": "stream",
     "text": [
      "IV_2_wind: 0.970950594455\n"
     ]
    }
   ],
   "source": [
    "IV_2_wind = -( (3 / 5* np.log2(3 / 5) + (2 / 5* np.log2(2 / 5) )))\n",
    "print('IV_2_wind:', IV_2_wind)"
   ]
  },
  {
   "cell_type": "code",
   "execution_count": 126,
   "metadata": {},
   "outputs": [
    {
     "data": {
      "text/plain": [
       "No     3\n",
       "Yes    2\n",
       "Name: label, dtype: int64"
      ]
     },
     "execution_count": 126,
     "metadata": {},
     "output_type": "execute_result"
    }
   ],
   "source": [
    "dataset_2['label'].value_counts()"
   ]
  },
  {
   "cell_type": "code",
   "execution_count": 127,
   "metadata": {},
   "outputs": [
    {
     "data": {
      "text/plain": [
       "0.97095059445466858"
      ]
     },
     "execution_count": 127,
     "metadata": {},
     "output_type": "execute_result"
    }
   ],
   "source": [
    "entropy_2_dataset = - ((3 / 5) * np.log2(3 / 5) + (2 / 5) * np.log2(2 / 5))\n",
    "entropy_2_dataset"
   ]
  },
  {
   "cell_type": "markdown",
   "metadata": {},
   "source": [
    "## 计算每个特征的信息增益率"
   ]
  },
  {
   "cell_type": "markdown",
   "metadata": {},
   "source": [
    "### 计算wind的信息增益率"
   ]
  },
  {
   "cell_type": "code",
   "execution_count": 128,
   "metadata": {},
   "outputs": [
    {
     "name": "stdout",
     "output_type": "stream",
     "text": [
      "Weak      3\n",
      "Strong    2\n",
      "Name: wind, dtype: int64\n",
      "wind    label\n",
      "Strong  No       1\n",
      "        Yes      1\n",
      "Weak    No       2\n",
      "        Yes      1\n",
      "Name: label, dtype: int64\n"
     ]
    }
   ],
   "source": [
    "print(dataset_2['wind'].value_counts())\n",
    "print(dataset_2.groupby(['wind'])['label'].value_counts())"
   ]
  },
  {
   "cell_type": "code",
   "execution_count": 130,
   "metadata": {},
   "outputs": [
    {
     "name": "stdout",
     "output_type": "stream",
     "text": [
      "0.638886021004\n"
     ]
    }
   ],
   "source": [
    "entropy_2_wind = -( (2 / num_datasets_2) * ( 1 / 2 * np.log2(1 / 2) + (1 / 2) * np.log2(1 / 2)) ) - \\\n",
    "( (3 / num_datasets) * ( (1 / 3) * np.log2(1 / 3) + (2 / 3) *  np.log2(2 / 3)) )\n",
    "entropy_ratio_2_wind = (entropy_2_dataset - entropy_2_wind) / IV_2_wind\n",
    "print(entropy_ratio_2_wind)"
   ]
  },
  {
   "cell_type": "markdown",
   "metadata": {},
   "source": [
    "### 计算humidity的信息增益率"
   ]
  },
  {
   "cell_type": "code",
   "execution_count": 131,
   "metadata": {},
   "outputs": [
    {
     "data": {
      "text/html": [
       "<div>\n",
       "<style>\n",
       "    .dataframe thead tr:only-child th {\n",
       "        text-align: right;\n",
       "    }\n",
       "\n",
       "    .dataframe thead th {\n",
       "        text-align: left;\n",
       "    }\n",
       "\n",
       "    .dataframe tbody tr th {\n",
       "        vertical-align: top;\n",
       "    }\n",
       "</style>\n",
       "<table border=\"1\" class=\"dataframe\">\n",
       "  <thead>\n",
       "    <tr style=\"text-align: right;\">\n",
       "      <th></th>\n",
       "      <th>humidity</th>\n",
       "      <th>label</th>\n",
       "    </tr>\n",
       "  </thead>\n",
       "  <tbody>\n",
       "    <tr>\n",
       "      <th>8</th>\n",
       "      <td>70</td>\n",
       "      <td>Yes</td>\n",
       "    </tr>\n",
       "    <tr>\n",
       "      <th>10</th>\n",
       "      <td>70</td>\n",
       "      <td>Yes</td>\n",
       "    </tr>\n",
       "    <tr>\n",
       "      <th>0</th>\n",
       "      <td>85</td>\n",
       "      <td>No</td>\n",
       "    </tr>\n",
       "    <tr>\n",
       "      <th>1</th>\n",
       "      <td>90</td>\n",
       "      <td>No</td>\n",
       "    </tr>\n",
       "    <tr>\n",
       "      <th>7</th>\n",
       "      <td>95</td>\n",
       "      <td>No</td>\n",
       "    </tr>\n",
       "  </tbody>\n",
       "</table>\n",
       "</div>"
      ],
      "text/plain": [
       "    humidity label\n",
       "8         70   Yes\n",
       "10        70   Yes\n",
       "0         85    No\n",
       "1         90    No\n",
       "7         95    No"
      ]
     },
     "execution_count": 131,
     "metadata": {},
     "output_type": "execute_result"
    }
   ],
   "source": [
    "dataset_2[['humidity', 'label']].sort_values(by = 'humidity')"
   ]
  },
  {
   "cell_type": "markdown",
   "metadata": {},
   "source": [
    "#### 77.5为划分点"
   ]
  },
  {
   "cell_type": "code",
   "execution_count": 134,
   "metadata": {},
   "outputs": [
    {
     "name": "stdout",
     "output_type": "stream",
     "text": [
      "No    3\n",
      "Name: label, dtype: int64\n",
      "\n",
      "3\n",
      "\n",
      "Yes    2\n",
      "Name: label, dtype: int64\n"
     ]
    }
   ],
   "source": [
    "labels_2_humidity_77_5 = dataset_2[dataset_2['humidity'] > 77.5]['label'].value_counts()\n",
    "print(labels_humidity_67_5)\n",
    "print()\n",
    "print(len(dataset_2[dataset_2['humidity'] > 77.5]))\n",
    "print()\n",
    "print(dataset_2[dataset_2['humidity'] < 77.5]['label'].value_counts())"
   ]
  },
  {
   "cell_type": "code",
   "execution_count": 141,
   "metadata": {},
   "outputs": [
    {
     "name": "stdout",
     "output_type": "stream",
     "text": [
      "0.970950594455\n",
      "0\n",
      "result entropy_ratio_humidity_77_5: 0.745504807469\n"
     ]
    }
   ],
   "source": [
    "IV_2_humidity_77_5 = - ( (3 / 5) * np.log2(3 / 5) + ( (2 / 5) * np.log2(2 / 5) ) ) \n",
    "print(IV_2_humidity_77_5)\n",
    "\n",
    "entropy_2_humidity_77_5 = 0\n",
    "\n",
    "print(entropy_2_humidity_77_5)\n",
    "entropy_ratio_2_humidity_77_5 = (entropy_2_dataset - entropy_2_humidity_77_5 - continuous_cost) / IV_2_humidity_77_5\n",
    "print('result entropy_ratio_humidity_77_5:', entropy_ratio_2_humidity_77_5)"
   ]
  },
  {
   "cell_type": "markdown",
   "metadata": {},
   "source": [
    "- 由此可见，Sunny下面分支为humidity 77.5"
   ]
  },
  {
   "cell_type": "markdown",
   "metadata": {},
   "source": [
    "# 第三次分叉，由于overcast都为Yes，所以没有子分支了"
   ]
  },
  {
   "cell_type": "markdown",
   "metadata": {},
   "source": [
    "# 第四次分叉，对Outlook为Rain的数据进行分叉"
   ]
  },
  {
   "cell_type": "code",
   "execution_count": 142,
   "metadata": {},
   "outputs": [
    {
     "name": "stdout",
     "output_type": "stream",
     "text": [
      "69    1\n",
      "85    1\n",
      "75    1\n",
      "72    1\n",
      "80    1\n",
      "Name: temperature, dtype: int64\n",
      "70    2\n",
      "95    1\n",
      "85    1\n",
      "90    1\n",
      "Name: humidity, dtype: int64\n",
      "Weak      3\n",
      "Strong    2\n",
      "Name: wind, dtype: int64\n"
     ]
    }
   ],
   "source": [
    "# 求每个特征的IV值\n",
    "dataset_4 = dataset[dataset.outlook == 'Rain']\n",
    "\n",
    "print(dataset_2['temperature'].value_counts())\n",
    "print(dataset_2['humidity'].value_counts())\n",
    "print(dataset_2['wind'].value_counts())"
   ]
  },
  {
   "cell_type": "code",
   "execution_count": 143,
   "metadata": {},
   "outputs": [
    {
     "name": "stdout",
     "output_type": "stream",
     "text": [
      "IV_4_wind: 0.970950594455\n"
     ]
    }
   ],
   "source": [
    "IV_4_wind = -( (3 / 5* np.log2(3 / 5) + (2 / 5* np.log2(2 / 5) )))\n",
    "print('IV_4_wind:', IV_4_wind)"
   ]
  },
  {
   "cell_type": "code",
   "execution_count": 144,
   "metadata": {},
   "outputs": [
    {
     "data": {
      "text/plain": [
       "Yes    3\n",
       "No     2\n",
       "Name: label, dtype: int64"
      ]
     },
     "execution_count": 144,
     "metadata": {},
     "output_type": "execute_result"
    }
   ],
   "source": [
    "dataset_4['label'].value_counts()"
   ]
  },
  {
   "cell_type": "code",
   "execution_count": 145,
   "metadata": {},
   "outputs": [
    {
     "data": {
      "text/plain": [
       "0.97095059445466858"
      ]
     },
     "execution_count": 145,
     "metadata": {},
     "output_type": "execute_result"
    }
   ],
   "source": [
    "entropy_4_dataset = - ((3 / 5) * np.log2(3 / 5) + (2 / 5) * np.log2(2 / 5))\n",
    "entropy_4_dataset"
   ]
  },
  {
   "cell_type": "markdown",
   "metadata": {},
   "source": [
    "## 计算每个特征的信息增益率"
   ]
  },
  {
   "cell_type": "markdown",
   "metadata": {},
   "source": [
    "### 计算wind的信息增益率"
   ]
  },
  {
   "cell_type": "code",
   "execution_count": 146,
   "metadata": {},
   "outputs": [
    {
     "name": "stdout",
     "output_type": "stream",
     "text": [
      "Weak      3\n",
      "Strong    2\n",
      "Name: wind, dtype: int64\n",
      "wind    label\n",
      "Strong  No       2\n",
      "Weak    Yes      3\n",
      "Name: label, dtype: int64\n"
     ]
    }
   ],
   "source": [
    "print(dataset_4['wind'].value_counts())\n",
    "print(dataset_4.groupby(['wind'])['label'].value_counts())"
   ]
  },
  {
   "cell_type": "code",
   "execution_count": 147,
   "metadata": {},
   "outputs": [
    {
     "name": "stdout",
     "output_type": "stream",
     "text": [
      "1.0\n"
     ]
    }
   ],
   "source": [
    "entropy_4_wind = 0\n",
    "entropy_ratio_4_wind = (entropy_4_dataset - entropy_4_wind) / IV_4_wind\n",
    "print(entropy_ratio_4_wind)"
   ]
  },
  {
   "cell_type": "markdown",
   "metadata": {},
   "source": [
    "- 信息增益率为1了，所以已经可将数据完美分开了，所以不选其他特征了"
   ]
  },
  {
   "attachments": {
    "image.png": {
     "image/png": "[encoded data removed]"
    }
   },
   "cell_type": "markdown",
   "metadata": {},
   "source": [
    "![image.png](attachment:image.png)"
   ]
  },
  {
   "cell_type": "code",
   "execution_count": null,
   "metadata": {
    "collapsed": true
   },
   "outputs": [],
   "source": []
  }
 ],
 "metadata": {
  "kernelspec": {
   "display_name": "Python 3",
   "language": "python",
   "name": "python3"
  },
  "language_info": {
   "codemirror_mode": {
    "name": "ipython",
    "version": 3
   },
   "file_extension": ".py",
   "mimetype": "text/x-python",
   "name": "python",
   "nbconvert_exporter": "python",
   "pygments_lexer": "ipython3",
   "version": "3.6.8"
  },
  "toc": {
   "base_numbering": 1,
   "nav_menu": {},
   "number_sections": true,
   "sideBar": true,
   "skip_h1_title": false,
   "title_cell": "Table of Contents",
   "title_sidebar": "Contents",
   "toc_cell": false,
   "toc_position": {
    "height": "calc(100% - 180px)",
    "left": "10px",
    "top": "150px",
    "width": "273px"
   },
   "toc_section_display": true,
   "toc_window_display": true
  }
 },
 "nbformat": 4,
 "nbformat_minor": 2
}
